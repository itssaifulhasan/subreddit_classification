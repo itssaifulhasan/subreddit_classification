{
 "cells": [
  {
   "cell_type": "markdown",
   "metadata": {},
   "source": [
    "# Application Programming Interface (API) & Natural Language Processing (NLP)"
   ]
  },
  {
   "cell_type": "markdown",
   "metadata": {},
   "source": [
    "#### Saiful Hasan [GitHub](https://github.com/saifulhasan22) [LinkedIn](https://www.linkedin.com/in/saifulhasan22/)"
   ]
  },
  {
   "cell_type": "markdown",
   "metadata": {},
   "source": [
    "## Problem Statement"
   ]
  },
  {
   "cell_type": "markdown",
   "metadata": {},
   "source": [
    "We aim to build a model that would segregate the subreddits based on their title text and would predict which subreddit it is. We have chosen two subreddits - 'movie' and 'music' for our analysis. As a part of this study, we would try different classification models and select the best predictive model. We have chosen to use the classification metric, accuracy score to select the best performing model."
   ]
  },
  {
   "cell_type": "markdown",
   "metadata": {},
   "source": [
    "## Table of contents"
   ]
  },
  {
   "cell_type": "markdown",
   "metadata": {},
   "source": [
    "- [Import Library](#Import-Library)\n",
    "- [Import Data](#Import-Data)\n",
    "- [Data Cleaning](#Data-Cleaning)\n",
    "- [Pre-processing corpus](#Pre-processing-corpus)\n",
    "- [Model Preparation](#Model-Preparation)\n",
    "- [Modelling](#Modelling)\n",
    "- [Model Selection](#Model-Selection)\n",
    "- [Model Evaluation](#Model-Evaluation)\n",
    "- [Conclusion](#Conclusion)\n",
    "- [Recommendation](#Recommendation)"
   ]
  },
  {
   "cell_type": "markdown",
   "metadata": {},
   "source": [
    "##  Import Library"
   ]
  },
  {
   "cell_type": "code",
   "execution_count": 1,
   "metadata": {},
   "outputs": [],
   "source": [
    "import pandas as pd\n",
    "import numpy as np\n",
    "import seaborn as sns\n",
    "import matplotlib.pyplot as plt\n",
    "import scipy.stats as stats\n",
    "import nltk\n",
    "from nltk.stem import WordNetLemmatizer #Import lemmatizer\n",
    "from nltk.tokenize import RegexpTokenizer # Import Tokenizer\n",
    "from sklearn.model_selection import train_test_split, GridSearchCV, cross_val_score\n",
    "from sklearn.linear_model import LogisticRegression\n",
    "from sklearn.naive_bayes import MultinomialNB, GaussianNB\n",
    "from sklearn.pipeline import Pipeline\n",
    "import matplotlib.pyplot as plt\n",
    "from sklearn.neighbors import KNeighborsClassifier\n",
    "from sklearn.metrics import confusion_matrix\n",
    "from sklearn.datasets import make_classification\n",
    "from sklearn.ensemble import BaggingClassifier\n",
    "from sklearn.tree import DecisionTreeClassifier\n",
    "from sklearn.ensemble import RandomForestClassifier\n",
    "from sklearn.base import TransformerMixin\n",
    "import re\n",
    "from sklearn.feature_extraction.text import CountVectorizer, TfidfVectorizer, TfidfTransformer\n",
    "RANDOM_STATE = 42"
   ]
  },
  {
   "cell_type": "markdown",
   "metadata": {},
   "source": [
    "##  Import Data"
   ]
  },
  {
   "cell_type": "code",
   "execution_count": 2,
   "metadata": {},
   "outputs": [],
   "source": [
    "df_movie = pd.read_csv(\"../Data/data_movies.csv\")"
   ]
  },
  {
   "cell_type": "code",
   "execution_count": 3,
   "metadata": {},
   "outputs": [],
   "source": [
    "df_music = pd.read_csv(\"../Data/data_music.csv\")"
   ]
  },
  {
   "cell_type": "code",
   "execution_count": 4,
   "metadata": {},
   "outputs": [
    {
     "name": "stdout",
     "output_type": "stream",
     "text": [
      "(2723, 9)\n",
      "(2014, 9)\n"
     ]
    }
   ],
   "source": [
    "print(df_movie.shape)\n",
    "print(df_music.shape)"
   ]
  },
  {
   "cell_type": "markdown",
   "metadata": {},
   "source": [
    "So, we have 2723 submission for 'movies' subreddit and 2014 for 'music' subreddit for our classification analysis"
   ]
  },
  {
   "cell_type": "code",
   "execution_count": 5,
   "metadata": {},
   "outputs": [],
   "source": [
    "df = df_movie.append(df_music)  # creating a new dataframe that includes all data"
   ]
  },
  {
   "cell_type": "code",
   "execution_count": 6,
   "metadata": {},
   "outputs": [
    {
     "data": {
      "text/plain": [
       "(4737, 9)"
      ]
     },
     "execution_count": 6,
     "metadata": {},
     "output_type": "execute_result"
    }
   ],
   "source": [
    "df.shape"
   ]
  },
  {
   "cell_type": "code",
   "execution_count": 7,
   "metadata": {},
   "outputs": [
    {
     "data": {
      "text/html": [
       "<div>\n",
       "<style scoped>\n",
       "    .dataframe tbody tr th:only-of-type {\n",
       "        vertical-align: middle;\n",
       "    }\n",
       "\n",
       "    .dataframe tbody tr th {\n",
       "        vertical-align: top;\n",
       "    }\n",
       "\n",
       "    .dataframe thead th {\n",
       "        text-align: right;\n",
       "    }\n",
       "</style>\n",
       "<table border=\"1\" class=\"dataframe\">\n",
       "  <thead>\n",
       "    <tr style=\"text-align: right;\">\n",
       "      <th></th>\n",
       "      <th>title</th>\n",
       "      <th>selftext</th>\n",
       "      <th>subreddit</th>\n",
       "      <th>created_utc</th>\n",
       "      <th>author</th>\n",
       "      <th>num_comments</th>\n",
       "      <th>score</th>\n",
       "      <th>is_self</th>\n",
       "      <th>timestamp</th>\n",
       "    </tr>\n",
       "  </thead>\n",
       "  <tbody>\n",
       "    <tr>\n",
       "      <th>0</th>\n",
       "      <td>Need help to find a name of cyberpunk movie I ...</td>\n",
       "      <td>[removed]</td>\n",
       "      <td>movies</td>\n",
       "      <td>1584584017</td>\n",
       "      <td>slvrbat</td>\n",
       "      <td>0</td>\n",
       "      <td>1</td>\n",
       "      <td>True</td>\n",
       "      <td>2020-03-18</td>\n",
       "    </tr>\n",
       "    <tr>\n",
       "      <th>1</th>\n",
       "      <td>my coronavirus movie picks</td>\n",
       "      <td>pls comment if you want too add films or categ...</td>\n",
       "      <td>movies</td>\n",
       "      <td>1584584059</td>\n",
       "      <td>Bobatron1010</td>\n",
       "      <td>13</td>\n",
       "      <td>2</td>\n",
       "      <td>True</td>\n",
       "      <td>2020-03-18</td>\n",
       "    </tr>\n",
       "  </tbody>\n",
       "</table>\n",
       "</div>"
      ],
      "text/plain": [
       "                                               title  \\\n",
       "0  Need help to find a name of cyberpunk movie I ...   \n",
       "1                         my coronavirus movie picks   \n",
       "\n",
       "                                            selftext subreddit  created_utc  \\\n",
       "0                                          [removed]    movies   1584584017   \n",
       "1  pls comment if you want too add films or categ...    movies   1584584059   \n",
       "\n",
       "         author  num_comments  score  is_self   timestamp  \n",
       "0       slvrbat             0      1     True  2020-03-18  \n",
       "1  Bobatron1010            13      2     True  2020-03-18  "
      ]
     },
     "execution_count": 7,
     "metadata": {},
     "output_type": "execute_result"
    }
   ],
   "source": [
    "df[:2]"
   ]
  },
  {
   "cell_type": "markdown",
   "metadata": {},
   "source": [
    "##  Data Cleaning "
   ]
  },
  {
   "cell_type": "code",
   "execution_count": 8,
   "metadata": {},
   "outputs": [
    {
     "data": {
      "text/plain": [
       "0"
      ]
     },
     "execution_count": 8,
     "metadata": {},
     "output_type": "execute_result"
    }
   ],
   "source": [
    "df.duplicated().sum()  #checking duplicate"
   ]
  },
  {
   "cell_type": "code",
   "execution_count": 9,
   "metadata": {},
   "outputs": [
    {
     "data": {
      "text/html": [
       "<div>\n",
       "<style scoped>\n",
       "    .dataframe tbody tr th:only-of-type {\n",
       "        vertical-align: middle;\n",
       "    }\n",
       "\n",
       "    .dataframe tbody tr th {\n",
       "        vertical-align: top;\n",
       "    }\n",
       "\n",
       "    .dataframe thead th {\n",
       "        text-align: right;\n",
       "    }\n",
       "</style>\n",
       "<table border=\"1\" class=\"dataframe\">\n",
       "  <thead>\n",
       "    <tr style=\"text-align: right;\">\n",
       "      <th></th>\n",
       "      <th>title</th>\n",
       "      <th>selftext</th>\n",
       "      <th>subreddit</th>\n",
       "      <th>created_utc</th>\n",
       "      <th>author</th>\n",
       "      <th>num_comments</th>\n",
       "      <th>score</th>\n",
       "      <th>is_self</th>\n",
       "      <th>timestamp</th>\n",
       "    </tr>\n",
       "  </thead>\n",
       "  <tbody>\n",
       "    <tr>\n",
       "      <th>0</th>\n",
       "      <td>Need help to find a name of cyberpunk movie I ...</td>\n",
       "      <td>[removed]</td>\n",
       "      <td>movies</td>\n",
       "      <td>1584584017</td>\n",
       "      <td>slvrbat</td>\n",
       "      <td>0</td>\n",
       "      <td>1</td>\n",
       "      <td>True</td>\n",
       "      <td>2020-03-18</td>\n",
       "    </tr>\n",
       "    <tr>\n",
       "      <th>1</th>\n",
       "      <td>my coronavirus movie picks</td>\n",
       "      <td>pls comment if you want too add films or categ...</td>\n",
       "      <td>movies</td>\n",
       "      <td>1584584059</td>\n",
       "      <td>Bobatron1010</td>\n",
       "      <td>13</td>\n",
       "      <td>2</td>\n",
       "      <td>True</td>\n",
       "      <td>2020-03-18</td>\n",
       "    </tr>\n",
       "  </tbody>\n",
       "</table>\n",
       "</div>"
      ],
      "text/plain": [
       "                                               title  \\\n",
       "0  Need help to find a name of cyberpunk movie I ...   \n",
       "1                         my coronavirus movie picks   \n",
       "\n",
       "                                            selftext subreddit  created_utc  \\\n",
       "0                                          [removed]    movies   1584584017   \n",
       "1  pls comment if you want too add films or categ...    movies   1584584059   \n",
       "\n",
       "         author  num_comments  score  is_self   timestamp  \n",
       "0       slvrbat             0      1     True  2020-03-18  \n",
       "1  Bobatron1010            13      2     True  2020-03-18  "
      ]
     },
     "execution_count": 9,
     "metadata": {},
     "output_type": "execute_result"
    }
   ],
   "source": [
    "df[:2]"
   ]
  },
  {
   "cell_type": "code",
   "execution_count": 10,
   "metadata": {},
   "outputs": [],
   "source": [
    "#assigning values to target variable \n",
    "\n",
    "df['subreddit'] = [1 if i == 'movies' else 0 for i in df['subreddit']]  "
   ]
  },
  {
   "cell_type": "code",
   "execution_count": 11,
   "metadata": {},
   "outputs": [],
   "source": [
    "#writing function to clean title\n",
    "#adopted and modified from https://towardsdatascience.com/the-real-world-as-seen-on-twitter-sentiment-analysis-part-one-5ac2d06b63fb\n",
    "#adopted and modified from https://towardsdatascience.com/getting-your-text-data-ready-for-your-natural-language-processing-journey-744d52912867\n",
    "#adopted and modified Matt Brems code  \n",
    "\n",
    "def review_to_title(title):\n",
    "    \n",
    "    # Remove non-letters.\n",
    "    title = re.sub(\"[^a-zA-Z]\", \" \", title)\n",
    "    \n",
    "    # Convert to lower case\n",
    "    title = title.lower()\n",
    "    \n",
    "    # Remove hashtags\n",
    "    title = re.sub(r'#\\w*', '', title)\n",
    "    \n",
    "    # Remove HTML special entities (e.g. &amp;)\n",
    "    title = re.sub(r'\\&\\w*;', '', title)\n",
    "    \n",
    "    #punctuation\n",
    "    title = re.sub(r'[?|!|\\'|#]', r'', title)\n",
    "    \n",
    "    # Remove hyperlinks\n",
    "    title = re.sub(r'https?:\\/\\/.*\\/\\w*', '', title)\n",
    "    \n",
    "    # Remove whitespace (including new line characters)\n",
    "    title = re.sub(r'\\s\\s+', ' ', title)\n",
    "    \n",
    "    return title "
   ]
  },
  {
   "cell_type": "code",
   "execution_count": 12,
   "metadata": {},
   "outputs": [],
   "source": [
    "df['title'] = df['title'].map(review_to_title)  #including the cleaned title in dataframe"
   ]
  },
  {
   "cell_type": "code",
   "execution_count": 13,
   "metadata": {},
   "outputs": [
    {
     "data": {
      "text/plain": [
       "(4737, 9)"
      ]
     },
     "execution_count": 13,
     "metadata": {},
     "output_type": "execute_result"
    }
   ],
   "source": [
    "df.shape"
   ]
  },
  {
   "cell_type": "code",
   "execution_count": 14,
   "metadata": {},
   "outputs": [
    {
     "data": {
      "text/plain": [
       "0"
      ]
     },
     "execution_count": 14,
     "metadata": {},
     "output_type": "execute_result"
    }
   ],
   "source": [
    "df['title'].isnull().sum()  #checking null values"
   ]
  },
  {
   "cell_type": "code",
   "execution_count": 15,
   "metadata": {},
   "outputs": [],
   "source": [
    "# Lemmatizing\n",
    "# ref : https://www.guru99.com/stemming-lemmatization-python-nltk.html\n",
    "# ref : Sarah Scolnik github \n",
    "\n",
    "lemmatizer = WordNetLemmatizer()\n",
    "\n",
    "def lemmatize_words(title):\n",
    "    words = title.split()\n",
    "    lemma_words = ''\n",
    "    for word in words:\n",
    "        lemma_words += (lemmatizer.lemmatize(word) + ' ')\n",
    "    return lemma_words"
   ]
  },
  {
   "cell_type": "code",
   "execution_count": 16,
   "metadata": {},
   "outputs": [],
   "source": [
    "df['title'] = df['title'].apply(lemmatize_words)"
   ]
  },
  {
   "cell_type": "markdown",
   "metadata": {},
   "source": [
    "##  Pre-processing corpus"
   ]
  },
  {
   "cell_type": "markdown",
   "metadata": {},
   "source": [
    "### Brief exploration on corpus "
   ]
  },
  {
   "cell_type": "code",
   "execution_count": 17,
   "metadata": {},
   "outputs": [],
   "source": [
    "#countvectorizer on whole data \n",
    "\n",
    "count_vect = CountVectorizer(\n",
    "                             analyzer = \"word\", \n",
    "                             stop_words = \"english\", \n",
    "                             max_features = 20,\n",
    "                             ngram_range= (1,2)\n",
    "                            )\n",
    "\n",
    "df_words = count_vect.fit_transform(df['title'])  #fit_transform the vectorizer\n",
    "df_words = df_words.toarray() #output"
   ]
  },
  {
   "cell_type": "code",
   "execution_count": 18,
   "metadata": {},
   "outputs": [
    {
     "name": "stdout",
     "output_type": "stream",
     "text": [
      "['album', 'amp', 'best', 'film', 'good', 'help', 'just', 'know', 'like', 'looking', 'movie', 'music', 'need', 'new', 'song']\n"
     ]
    }
   ],
   "source": [
    "print(list(count_vect.get_feature_names())[:15])"
   ]
  },
  {
   "cell_type": "code",
   "execution_count": 19,
   "metadata": {},
   "outputs": [],
   "source": [
    "covec_df = pd.DataFrame(df_words, columns = count_vect.get_feature_names()) # creating a dataframe"
   ]
  },
  {
   "cell_type": "code",
   "execution_count": 20,
   "metadata": {},
   "outputs": [
    {
     "data": {
      "text/plain": [
       "Text(0, 0.5, 'words')"
      ]
     },
     "execution_count": 20,
     "metadata": {},
     "output_type": "execute_result"
    },
    {
     "data": {
      "image/png": "[encoded data removed]",
      "text/plain": [
       "<Figure size 1080x864 with 1 Axes>"
      ]
     },
     "metadata": {},
     "output_type": "display_data"
    }
   ],
   "source": [
    "#plotting the most frequent words in the title in corpus\n",
    "\n",
    "plt.style.use('seaborn')\n",
    "plt.figure(figsize = (15,12))\n",
    "covec_df.sum().sort_values(ascending=False).plot(kind = 'barh', color ='g', fontsize = 15)\n",
    "plt.title(\"20 Most frequent Words used in the titles in corpus\", fontsize = 20)\n",
    "plt.xlabel('Frequency', fontsize =20)\n",
    "plt.ylabel ('words', fontsize = 20)"
   ]
  },
  {
   "cell_type": "markdown",
   "metadata": {},
   "source": [
    "We see that the frequency of word 'movie' is way higher than other words in the whole dataset. 'song' and 'music' are the second and third most frequent words in the dataset. We see that some short forms of words or phrases have been used in the subreddits, e.g. 'amp' for ampifier and 'wa' for what. "
   ]
  },
  {
   "cell_type": "code",
   "execution_count": 21,
   "metadata": {},
   "outputs": [
    {
     "name": "stdout",
     "output_type": "stream",
     "text": [
      "4737\n"
     ]
    }
   ],
   "source": [
    "print(len(df['title']))"
   ]
  },
  {
   "cell_type": "code",
   "execution_count": 22,
   "metadata": {},
   "outputs": [
    {
     "data": {
      "image/png": "[encoded data removed]",
      "text/plain": [
       "<Figure size 720x576 with 1 Axes>"
      ]
     },
     "metadata": {},
     "output_type": "display_data"
    }
   ],
   "source": [
    "#plotting the length of titles in histogram \n",
    "\n",
    "plt.style.use('seaborn')\n",
    "plt.figure(figsize = (10,8))\n",
    "lengths_of_posts = [len(each) for each in df['title']]  #adopted code from Noah\n",
    "plt.hist(lengths_of_posts)\n",
    "plt.xlabel('length by words', fontsize =15)\n",
    "plt.ylabel ('number of submissions', fontsize = 15)\n",
    "plt.title('Histogram of the title Lengths by words', fontsize = 15);"
   ]
  },
  {
   "cell_type": "markdown",
   "metadata": {},
   "source": [
    "The length of the title is actaully the number of words per title.The Histogram suggets that most of the titles' length are below 150 words, while some titles are lengthy enough to have 200- 300 words."
   ]
  },
  {
   "cell_type": "code",
   "execution_count": 84,
   "metadata": {},
   "outputs": [
    {
     "data": {
      "text/plain": [
       "Text(0.5, 1.0, 'Average score per submission')"
      ]
     },
     "execution_count": 84,
     "metadata": {},
     "output_type": "execute_result"
    },
    {
     "data": {
      "image/png": "[encoded data removed]",
      "text/plain": [
       "<Figure size 576x396 with 1 Axes>"
      ]
     },
     "metadata": {},
     "output_type": "display_data"
    }
   ],
   "source": [
    "#plotting the average score for 'movie' subreddit and 'music' subreddit\n",
    "ax_y = df.groupby('subreddit')['score'].mean()\n",
    "ax_x = ['Music', 'Movie']\n",
    "plt.bar(ax_x, ax_y)\n",
    "plt.title('Average score per submission', fontsize = 15)"
   ]
  },
  {
   "cell_type": "markdown",
   "metadata": {},
   "source": [
    "A submission's score is simply the number of upvotes minus the number of downvotes. So, the 'movies' subreddits's average score is higher than the 'music' subreddit, which might be the result of active participations from 'movies' subreddit users. \n",
    "\n",
    "reference: https://www.reddit.com/wiki/faq#wiki_how_is_a_submission.27s_score_determined.3F"
   ]
  },
  {
   "cell_type": "markdown",
   "metadata": {},
   "source": [
    "### Brief exploration on movies and music dataset individually"
   ]
  },
  {
   "cell_type": "markdown",
   "metadata": {},
   "source": [
    "### _Counvectorizer_"
   ]
  },
  {
   "cell_type": "code",
   "execution_count": 24,
   "metadata": {},
   "outputs": [],
   "source": [
    "#most frequent words for movies\n",
    "\n",
    "count_vect = CountVectorizer(\n",
    "                             analyzer = \"word\", \n",
    "                             stop_words = \"english\", \n",
    "                             max_features = 20,\n",
    "                             ngram_range= (1,2)\n",
    "                            )\n",
    "\n",
    "vector_input_music = df[df['subreddit'] == 1]['title']  # input for CountVectorizer\n",
    "movie_words = count_vect.fit_transform(vector_input_music)  #fit_transform the vectorizer\n",
    "movie_words = movie_words.toarray() #output"
   ]
  },
  {
   "cell_type": "code",
   "execution_count": 25,
   "metadata": {},
   "outputs": [
    {
     "name": "stdout",
     "output_type": "stream",
     "text": [
      "['actor', 'best', 'doe', 'endgame', 'film', 'good', 'help', 'just', 'like', 'movie', 'need', 'new', 'scene', 'spoiler', 'think', 'time', 'wa', 'watch', 'watched', 'year']\n"
     ]
    }
   ],
   "source": [
    "print(list(count_vect.get_feature_names()))"
   ]
  },
  {
   "cell_type": "code",
   "execution_count": 26,
   "metadata": {},
   "outputs": [],
   "source": [
    "covec_movie = pd.DataFrame(movie_words, columns = count_vect.get_feature_names())  #creating Dataframe"
   ]
  },
  {
   "cell_type": "code",
   "execution_count": 27,
   "metadata": {},
   "outputs": [
    {
     "data": {
      "text/plain": [
       "Text(0, 0.5, 'words')"
      ]
     },
     "execution_count": 27,
     "metadata": {},
     "output_type": "execute_result"
    },
    {
     "data": {
      "image/png": "[encoded data removed]",
      "text/plain": [
       "<Figure size 1080x864 with 1 Axes>"
      ]
     },
     "metadata": {},
     "output_type": "display_data"
    }
   ],
   "source": [
    "#plotting 20 most frequent words for movie subreddit\n",
    "\n",
    "plt.style.use('seaborn')\n",
    "plt.figure(figsize = (15,12))\n",
    "covec_movie.sum().sort_values(ascending= False).plot(kind = 'barh', color ='g', fontsize = 15)\n",
    "plt.title(\"20 Most frequent Words used in title for movie subreddit\", fontsize = 20)\n",
    "plt.xlabel('Frequency', fontsize =20)\n",
    "plt.ylabel ('words', fontsize = 20)"
   ]
  },
  {
   "cell_type": "markdown",
   "metadata": {},
   "source": [
    "Not to surprise that words like 'movie', 'film, is the top two most frequent words. there's is also movie names like 'endgame' and short form of words like 'doe' which stands for depend on experience. "
   ]
  },
  {
   "cell_type": "code",
   "execution_count": 28,
   "metadata": {},
   "outputs": [],
   "source": [
    "#most frequent words for music\n",
    "\n",
    "count_vect = CountVectorizer(\n",
    "                            analyzer = \"word\", \n",
    "                             stop_words = \"english\", \n",
    "                             max_features = 20,\n",
    "                             ngram_range=(1, 2)\n",
    "                            ) \n",
    "\n",
    "vector_input_music = df[df['subreddit'] == 0]['title'] # input for CountVectorizer\n",
    "\n",
    "music_words = count_vect.fit_transform(vector_input_music) #fit_transform the vectorizer\n",
    "\n",
    "music_words = music_words.toarray() #output "
   ]
  },
  {
   "cell_type": "code",
   "execution_count": 29,
   "metadata": {},
   "outputs": [
    {
     "name": "stdout",
     "output_type": "stream",
     "text": [
      "['album', 'amp', 'artist', 'band', 'best', 'cover', 'good', 'help', 'http', 'like', 'looking', 'music', 'need', 'new', 'playlist', 'rock', 'song', 'steelasophical', 'steelband', 'video']\n"
     ]
    }
   ],
   "source": [
    "print(list(count_vect.get_feature_names()))"
   ]
  },
  {
   "cell_type": "code",
   "execution_count": 30,
   "metadata": {},
   "outputs": [],
   "source": [
    "covec_music = pd.DataFrame(music_words, columns = count_vect.get_feature_names()) #creating Dataframe"
   ]
  },
  {
   "cell_type": "code",
   "execution_count": 31,
   "metadata": {},
   "outputs": [
    {
     "data": {
      "text/plain": [
       "Text(0, 0.5, 'words')"
      ]
     },
     "execution_count": 31,
     "metadata": {},
     "output_type": "execute_result"
    },
    {
     "data": {
      "image/png": "[encoded data removed]",
      "text/plain": [
       "<Figure size 1080x864 with 1 Axes>"
      ]
     },
     "metadata": {},
     "output_type": "display_data"
    }
   ],
   "source": [
    "#plotting 20 most frequent words for music subreddit\n",
    "\n",
    "plt.style.use('seaborn')\n",
    "plt.figure(figsize = (15,12))\n",
    "covec_music.sum().sort_values(ascending=False).plot(kind = 'barh', color ='c', fontsize = 15)\n",
    "plt.title(\"20 Most frequent words used in title for music subreddit\", fontsize = 20)\n",
    "plt.xlabel('Frequency', fontsize =20)\n",
    "plt.ylabel ('words', fontsize = 20)"
   ]
  },
  {
   "cell_type": "markdown",
   "metadata": {},
   "source": [
    "Likewise 'movies' subreddit, not to surprise that we got the words like 'song', 'music', 'album' are the most frequent words. However, we can see that few words are common between the two subreddits, e.g. 'like', 'help', 'best'"
   ]
  },
  {
   "cell_type": "markdown",
   "metadata": {},
   "source": [
    "### _TF-IDF Vectorizer_"
   ]
  },
  {
   "cell_type": "markdown",
   "metadata": {},
   "source": [
    "TF-IDF is the short form for “Term Frequency — Inverse Document Frequency”. This is another technique to quantify a word in document. TF-IDF generally compute a weight to each word which signifies the importance of the word in the document and corpus. "
   ]
  },
  {
   "cell_type": "code",
   "execution_count": 32,
   "metadata": {},
   "outputs": [
    {
     "data": {
      "text/plain": [
       "movie      170.736088\n",
       "film        43.897307\n",
       "help        40.614416\n",
       "best        32.627449\n",
       "watch       27.695621\n",
       "wa          24.072006\n",
       "like        23.337639\n",
       "time        22.249508\n",
       "good        21.254840\n",
       "spoiler     20.900867\n",
       "dtype: float64"
      ]
     },
     "execution_count": 32,
     "metadata": {},
     "output_type": "execute_result"
    }
   ],
   "source": [
    "#tfidf vectorizer for movie words\n",
    "\n",
    "tfdf = TfidfVectorizer(\n",
    "                     analyzer = \"word\", \n",
    "                     stop_words = 'english', \n",
    "                     max_features = 10000, \n",
    "                     ngram_range = (1, 2)\n",
    "                         )\n",
    "\n",
    "tfdf_input_movie = df[df['subreddit'] == 1]['title']  # input for CountVectorizer\n",
    "\n",
    "tfdf_movie_words = tfdf.fit_transform(tfdf_input_movie) #fit-transform\n",
    "\n",
    "tfdf_movie_words = tfdf_movie_words.toarray() #output\n",
    "\n",
    "tfdf_movie = pd.DataFrame(tfdf_movie_words, columns=tfdf.get_feature_names())  #create Dataframe\n",
    "\n",
    "tfdf_movie.sum().sort_values(ascending=False).head(10)  "
   ]
  },
  {
   "cell_type": "code",
   "execution_count": 33,
   "metadata": {},
   "outputs": [
    {
     "data": {
      "text/plain": [
       "song        68.327028\n",
       "music       49.640428\n",
       "help        33.010439\n",
       "album       24.046394\n",
       "new         23.307100\n",
       "band        17.784376\n",
       "looking     17.755175\n",
       "need        17.753946\n",
       "playlist    16.433595\n",
       "genre       16.352990\n",
       "dtype: float64"
      ]
     },
     "execution_count": 33,
     "metadata": {},
     "output_type": "execute_result"
    }
   ],
   "source": [
    "#tfidf vectorizer for music words\n",
    "\n",
    "tfdf = TfidfVectorizer(\n",
    "                     analyzer = \"word\", \n",
    "                     stop_words = 'english', \n",
    "                     max_features = 10000, \n",
    "                     ngram_range = (1, 2)\n",
    "                         )\n",
    "\n",
    "tfdf_input_music = df[df['subreddit'] == 0]['title']  # input for CountVectorizer\n",
    "\n",
    "tfdf_music_words = tfdf.fit_transform(tfdf_input_music) #fit-transform\n",
    "\n",
    "tfdf_music_words = tfdf_music_words.toarray() #output\n",
    "\n",
    "tfdf_music = pd.DataFrame(tfdf_music_words, columns=tfdf.get_feature_names())  #create Dataframe\n",
    "\n",
    "tfdf_music.sum().sort_values(ascending=False).head(10)  "
   ]
  },
  {
   "cell_type": "markdown",
   "metadata": {},
   "source": [
    "##  Model Preparation"
   ]
  },
  {
   "cell_type": "code",
   "execution_count": 34,
   "metadata": {},
   "outputs": [],
   "source": [
    "#setting X and y(target variable)\n",
    "\n",
    "X = df['title']\n",
    "y = df['subreddit']\n",
    "\n",
    "#split dataset\n",
    "X_train, X_test, y_train, y_test = train_test_split(X, y, stratify=y, test_size = 0.40, random_state=RANDOM_STATE)"
   ]
  },
  {
   "cell_type": "code",
   "execution_count": 35,
   "metadata": {},
   "outputs": [],
   "source": [
    "# writing function for classification metrics\n",
    "\n",
    "def classification_metric(y_test, y_pred):\n",
    "    tn, fp, fn, tp = confusion_matrix(y_test, y_pred).ravel();\n",
    "    acc = ((tp + tn)/(tp + tn + fp + fn))\n",
    "    sen = (tp /(tp+fn))\n",
    "    spec = (tn/(tn+fp))\n",
    "    pre = (tp/(tp+fp))\n",
    "    clas = 1 -acc\n",
    "    print('Classification metric:')\n",
    "    print(\"accuracy:               {:.4f} \".format(((tp + tn)/(tp + tn + fp + fn))))\n",
    "    #print(\"missclassification:     {:.4f} \".format(1 - ((tp + tn)/(tp + tn + fp + fn))))\n",
    "   # print(\"sensitivity:            {:.4f}\".format((tp /(tp+fn))))\n",
    "   # print(\"specificity:            {:.4f} \".format((tn/(tn+fp))))\n",
    "    #print(\"precise:                {:.4f} \".format((tp/(tp+fp))))"
   ]
  },
  {
   "cell_type": "markdown",
   "metadata": {},
   "source": [
    "##  Modelling "
   ]
  },
  {
   "cell_type": "markdown",
   "metadata": {},
   "source": [
    "### Baseline Model"
   ]
  },
  {
   "cell_type": "markdown",
   "metadata": {},
   "source": [
    "For classification, there is no mean to predict, so a baseline classification model simply predicts the most frequently occurring class."
   ]
  },
  {
   "cell_type": "code",
   "execution_count": 36,
   "metadata": {},
   "outputs": [
    {
     "name": "stdout",
     "output_type": "stream",
     "text": [
      "Best baseline accuracy on TRAIN set: 0.5749472202674173\n",
      "Best baseline accuracy on TEST set: 0.5746701846965699\n"
     ]
    }
   ],
   "source": [
    "print('Best baseline accuracy on TRAIN set:', y_train.value_counts(normalize=True).max())\n",
    "print('Best baseline accuracy on TEST set:', y_test.value_counts(normalize=True).max())"
   ]
  },
  {
   "cell_type": "markdown",
   "metadata": {},
   "source": [
    "The accuracy score for both train set and test set is close enough. However, the accuracy of around 57% is the not satisfactory. We will try few models below to see if we can improve the accuracy"
   ]
  },
  {
   "cell_type": "markdown",
   "metadata": {},
   "source": [
    "### CVEC + Logistic Regression"
   ]
  },
  {
   "cell_type": "code",
   "execution_count": 37,
   "metadata": {},
   "outputs": [],
   "source": [
    "# Instantiate pipeline.\n",
    "pipe_cv = Pipeline([\n",
    "    ('cv', CountVectorizer()),\n",
    "    ('logit', LogisticRegression(solver = 'lbfgs'))\n",
    "])\n",
    "\n",
    "#Params-dictionary\n",
    "params_grid = {\n",
    "    'cv__max_features': [1000, 1500],\n",
    "    'cv__stop_words': ['english'],\n",
    "    'cv__ngram_range': [(1,1), (1,2)],\n",
    "    'logit__class_weight': ['balanced', 'distance'],\n",
    "    'logit__penalty': ['l2'],\n",
    "    'logit__C': [.001, 0.01, 0.1, 1]\n",
    "}\n",
    "\n",
    "# GridSearch over pipeline with given grid of parameters.\n",
    "logit_cv = GridSearchCV(pipe_cv, \n",
    "                     params_grid, \n",
    "                     cv=5, \n",
    "                     scoring ='accuracy')\n",
    "\n",
    "# Fit model.\n",
    "logit_cv.fit(X_train, y_train);"
   ]
  },
  {
   "cell_type": "code",
   "execution_count": 38,
   "metadata": {},
   "outputs": [
    {
     "data": {
      "text/plain": [
       "{'cv__max_features': 1500,\n",
       " 'cv__ngram_range': (1, 1),\n",
       " 'cv__stop_words': 'english',\n",
       " 'logit__C': 1,\n",
       " 'logit__class_weight': 'balanced',\n",
       " 'logit__penalty': 'l2'}"
      ]
     },
     "execution_count": 38,
     "metadata": {},
     "output_type": "execute_result"
    }
   ],
   "source": [
    "logit_cv.best_params_"
   ]
  },
  {
   "cell_type": "code",
   "execution_count": 39,
   "metadata": {},
   "outputs": [],
   "source": [
    "logit_cv.best_estimator_ ;"
   ]
  },
  {
   "cell_type": "code",
   "execution_count": 40,
   "metadata": {},
   "outputs": [
    {
     "name": "stdout",
     "output_type": "stream",
     "text": [
      "Best TRAIN set accuracy: 0.9469\n",
      "Best TEST set accuracy: 0.8749\n",
      "Cross-val accuracy: 0.8730\n"
     ]
    }
   ],
   "source": [
    "print('Best TRAIN set accuracy: {:.4f}'.format(logit_cv.score(X_train, y_train)))\n",
    "print('Best TEST set accuracy: {:.4f}'.format(logit_cv.score(X_test, y_test)))\n",
    "print('Cross-val accuracy: {:.4f}'.format(logit_cv.best_score_))"
   ]
  },
  {
   "cell_type": "code",
   "execution_count": 41,
   "metadata": {},
   "outputs": [
    {
     "name": "stdout",
     "output_type": "stream",
     "text": [
      "Classification metric:\n",
      "accuracy:               0.8749 \n"
     ]
    }
   ],
   "source": [
    "# return classification metric\n",
    "classification_metric(y_test, logit_cv.predict(X_test))"
   ]
  },
  {
   "cell_type": "markdown",
   "metadata": {},
   "source": [
    "We see a improvement in the accuracy score. There is somewhat difference between accuracy on test set and train set."
   ]
  },
  {
   "cell_type": "markdown",
   "metadata": {},
   "source": [
    "### TF-IDF + Logistic Regression"
   ]
  },
  {
   "cell_type": "code",
   "execution_count": 42,
   "metadata": {},
   "outputs": [],
   "source": [
    "# Instantiate pipeline.\n",
    "pipe_tf = Pipeline(steps =[\n",
    "    ('tf', TfidfVectorizer()),\n",
    "    ('logit', LogisticRegression())\n",
    "])\n",
    "\n",
    "#Params-dictionary\n",
    "params_grid = {\n",
    "    'tf__max_features': [1000, 1500],\n",
    "    'tf__stop_words': ['english'],\n",
    "    'tf__ngram_range': [(1,1), (1,2)],\n",
    "     'logit__penalty': ['l2'],\n",
    "    'logit__C': [.001, 0.01, 0.1, 1],\n",
    "     'logit__class_weight': ['balanced', 'distance'],\n",
    "    'logit__verbose': [0]\n",
    "}\n",
    "\n",
    "# GridSearch over pipeline with given grid of parameters.\n",
    "logit_tf = GridSearchCV(pipe_tf, params_grid, cv=5)\n",
    "\n",
    "# Fit model.\n",
    "logit_tf.fit(X_train, y_train);"
   ]
  },
  {
   "cell_type": "code",
   "execution_count": 43,
   "metadata": {},
   "outputs": [
    {
     "data": {
      "text/plain": [
       "{'cv__max_features': 1500,\n",
       " 'cv__ngram_range': (1, 1),\n",
       " 'cv__stop_words': 'english',\n",
       " 'logit__C': 1,\n",
       " 'logit__class_weight': 'balanced',\n",
       " 'logit__penalty': 'l2'}"
      ]
     },
     "execution_count": 43,
     "metadata": {},
     "output_type": "execute_result"
    }
   ],
   "source": [
    "logit_cv.best_params_"
   ]
  },
  {
   "cell_type": "code",
   "execution_count": 44,
   "metadata": {},
   "outputs": [],
   "source": [
    "logit_cv.best_estimator_ ;"
   ]
  },
  {
   "cell_type": "code",
   "execution_count": 45,
   "metadata": {},
   "outputs": [
    {
     "name": "stdout",
     "output_type": "stream",
     "text": [
      "Best TRAIN set accuracy: 0.9469\n",
      "Best TEST set accuracy: 0.8839\n",
      "Cross-val accuracy: 0.8811\n"
     ]
    }
   ],
   "source": [
    "print('Best TRAIN set accuracy: {:.4f}'.format(logit_tf.score(X_train, y_train)))\n",
    "print('Best TEST set accuracy: {:.4f}'.format(logit_tf.score(X_test, y_test)))\n",
    "print('Cross-val accuracy: {:.4f}'.format(logit_tf.best_score_))"
   ]
  },
  {
   "cell_type": "markdown",
   "metadata": {},
   "source": [
    "The accuracy score has been improved by TD-IDF with  Logistic model. The difference between accuracy on train and test set has shrinked a bit as well. "
   ]
  },
  {
   "cell_type": "markdown",
   "metadata": {},
   "source": [
    "### CVEC + KNN"
   ]
  },
  {
   "cell_type": "code",
   "execution_count": 46,
   "metadata": {},
   "outputs": [],
   "source": [
    "pipe_cv = Pipeline(steps=[\n",
    "    ('cv', CountVectorizer()),\n",
    "    ('knn', KNeighborsClassifier())\n",
    "])\n",
    "\n",
    "#Params-dictionary\n",
    "pipe_params = { 'cv__max_features': [1000, 1500],\n",
    "                 'cv__stop_words': ['english'],\n",
    "                 'cv__ngram_range': [(1,1), (1,2)],\n",
    "                 'knn__metric': ['minkowski','euclidean', 'manhattan'],\n",
    "                'knn__n_neighbors': [3, 5],\n",
    "                 'knn__weights': ['uniform', 'distance']}\n",
    "\n",
    "knn_cv = GridSearchCV(pipe_cv, \n",
    "                    pipe_params, \n",
    "                    cv = 5)\n",
    "# Fit model.\n",
    "knn_cv.fit(X_train, y_train);"
   ]
  },
  {
   "cell_type": "code",
   "execution_count": 47,
   "metadata": {},
   "outputs": [],
   "source": [
    "knn_cv.best_estimator_ ;"
   ]
  },
  {
   "cell_type": "code",
   "execution_count": 48,
   "metadata": {},
   "outputs": [
    {
     "name": "stdout",
     "output_type": "stream",
     "text": [
      "Best TRAIN set accuracy: 0.9609\n",
      "Best TEST set accuracy: 0.8069\n",
      "Cross-val accuracy: 0.8170\n"
     ]
    }
   ],
   "source": [
    "print('Best TRAIN set accuracy: {:.4f}'.format(knn_cv.score(X_train, y_train)))\n",
    "print('Best TEST set accuracy: {:.4f}'.format(knn_cv.score(X_test, y_test)))\n",
    "print('Cross-val accuracy: {:.4f}'.format(knn_cv.best_score_))"
   ]
  },
  {
   "cell_type": "markdown",
   "metadata": {},
   "source": [
    "The accuracy score has drop for CVEC + KNN model than the logistic models (both with CEVC with and TF-IDF with). The differences between score for train and test has widened as well."
   ]
  },
  {
   "cell_type": "markdown",
   "metadata": {},
   "source": [
    "## TF-IDF + KNN"
   ]
  },
  {
   "cell_type": "code",
   "execution_count": 49,
   "metadata": {},
   "outputs": [],
   "source": [
    "pipe_tf = Pipeline(steps=[\n",
    "    ('tfdf', TfidfVectorizer()),\n",
    "    ('knn', KNeighborsClassifier())\n",
    "])\n",
    "\n",
    "#Params-dictionary\n",
    "pipe_params = { 'tfdf__max_features': [1000, 1500],\n",
    "                 'tfdf__stop_words': [{'english'}],\n",
    "                 'tfdf__ngram_range': [(1,1), (1,2)],\n",
    "                 'knn__metric': ['minkowski','euclidean', 'manhattan'],\n",
    "                 'knn__n_neighbors': [3, 5],\n",
    "                  'knn__weights': ['uniform', 'distance']}\n",
    "\n",
    "knn_tf = GridSearchCV(pipe_tf, \n",
    "                    pipe_params, \n",
    "                    cv = 5) \n",
    "# Fit model                        \n",
    "knn_tf.fit(X_train, y_train);"
   ]
  },
  {
   "cell_type": "code",
   "execution_count": 50,
   "metadata": {},
   "outputs": [],
   "source": [
    "knn_tf.best_estimator_ ;"
   ]
  },
  {
   "cell_type": "code",
   "execution_count": 51,
   "metadata": {},
   "outputs": [
    {
     "name": "stdout",
     "output_type": "stream",
     "text": [
      "Best TRAIN set accuracy: 0.9778\n",
      "Best TEST set accuracy: 0.7261\n",
      "Cross-val accuracy: 0.7157\n"
     ]
    }
   ],
   "source": [
    "print('Best TRAIN set accuracy: {:.4f}'.format(knn_tf.score(X_train, y_train)))\n",
    "print('Best TEST set accuracy: {:.4f}'.format(knn_tf.score(X_test, y_test)))\n",
    "print('Cross-val accuracy: {:.4f}'.format(knn_tf.best_score_))"
   ]
  },
  {
   "cell_type": "markdown",
   "metadata": {},
   "source": [
    "The accuracy score has drop further for TF-IDF + KNN model. The differences between score for train and test has widened as well suggesting overfit model. The accuracy score is not that up to satisfcatory level."
   ]
  },
  {
   "cell_type": "markdown",
   "metadata": {},
   "source": [
    "### CVEC + Naive bayes (Multinomial)"
   ]
  },
  {
   "cell_type": "code",
   "execution_count": 52,
   "metadata": {},
   "outputs": [],
   "source": [
    "pipe_cv = Pipeline(steps=[\n",
    "    ('cv', CountVectorizer()),\n",
    "    ('multNB', MultinomialNB())\n",
    "])\n",
    "\n",
    "#Params-dictionary\n",
    "pipe_params = { 'cv__max_features': [1000, 1500],\n",
    "                 'cv__stop_words': [{'english'}],\n",
    "                 'cv__ngram_range': [(1,1), (1,2)],\n",
    "                  'multNB__alpha':  [2],\n",
    "                   'multNB__fit_prior': [True],\n",
    "                  'multNB__class_prior': [None]}\n",
    "\n",
    "gs_multNB = GridSearchCV(pipe_cv, \n",
    "                    pipe_params, \n",
    "                    cv = 5) \n",
    "# Fit model                              \n",
    "gs_multNB.fit(X_train, y_train);"
   ]
  },
  {
   "cell_type": "code",
   "execution_count": 53,
   "metadata": {},
   "outputs": [],
   "source": [
    "gs_multNB.best_estimator_ ;"
   ]
  },
  {
   "cell_type": "code",
   "execution_count": 54,
   "metadata": {},
   "outputs": [],
   "source": [
    "gs_multNB.get_params ;"
   ]
  },
  {
   "cell_type": "code",
   "execution_count": 55,
   "metadata": {},
   "outputs": [
    {
     "name": "stdout",
     "output_type": "stream",
     "text": [
      "Best TRAIN set accuracy: 0.9152\n",
      "Best TEST set accuracy: 0.8802\n",
      "Cross-val accuracy: 0.8712\n"
     ]
    }
   ],
   "source": [
    "print('Best TRAIN set accuracy: {:.4f}'.format(gs_multNB.score(X_train, y_train)))\n",
    "print('Best TEST set accuracy: {:.4f}'.format(gs_multNB.score(X_test, y_test)))\n",
    "print('Cross-val accuracy: {:.4f}'.format(gs_multNB.best_score_))"
   ]
  },
  {
   "cell_type": "markdown",
   "metadata": {},
   "source": [
    "The accuracy has jumped to 88% which is close to our TF-IDF + Logistic model. "
   ]
  },
  {
   "cell_type": "markdown",
   "metadata": {},
   "source": [
    "### TD-IDF + Naive bayes (Gaussian )"
   ]
  },
  {
   "cell_type": "code",
   "execution_count": 56,
   "metadata": {},
   "outputs": [],
   "source": [
    "# adapted from https://stackoverflow.com/questions/28384680/scikit-learns-pipeline-a-sparse-matrix-was-passed-but-dense-data-is-required\n",
    "class DenseTransformer(TransformerMixin):\n",
    "    def fit(self, X, y=None, **fit_params):\n",
    "        return self\n",
    "\n",
    "    def transform(self, X, y=None, **fit_params):\n",
    "        return X.toarray()"
   ]
  },
  {
   "cell_type": "code",
   "execution_count": 57,
   "metadata": {},
   "outputs": [],
   "source": [
    "\n",
    "pipe_tf = Pipeline(steps=[\n",
    "    ('tfdf', TfidfVectorizer()),\n",
    "    (\"_\",DenseTransformer()),\n",
    "    ('gasNB', GaussianNB())\n",
    "])\n",
    "\n",
    "#Params-dictionary\n",
    "pipe_params = { 'tfdf__max_features': [1000, 1500],\n",
    "                 'tfdf__stop_words': [{'english'}],\n",
    "                 'tfdf__ngram_range': [(1,1), (1,2)],\n",
    "                  'gasNB__var_smoothing': [1e-8]}\n",
    "            \n",
    "gs_gasNB = GridSearchCV(pipe_tf, \n",
    "                    pipe_params, \n",
    "                    cv = 5) \n",
    "\n",
    "\n",
    "# Fit model\n",
    "gs_gasNB.fit(X_train, y_train);"
   ]
  },
  {
   "cell_type": "code",
   "execution_count": 58,
   "metadata": {},
   "outputs": [],
   "source": [
    "gs_gasNB.best_estimator_ ;"
   ]
  },
  {
   "cell_type": "code",
   "execution_count": 59,
   "metadata": {},
   "outputs": [
    {
     "name": "stdout",
     "output_type": "stream",
     "text": [
      "Best TRAIN set accuracy: 0.8642\n",
      "Best TEST set accuracy: 0.7683\n",
      "Cross-val accuracy: 0.7713\n"
     ]
    }
   ],
   "source": [
    "print('Best TRAIN set accuracy: {:.4f}'.format(gs_gasNB.score(X_train, y_train)))\n",
    "print('Best TEST set accuracy: {:.4f}'.format(gs_gasNB.score(X_test, y_test)))\n",
    "print('Cross-val accuracy: {:.4f}'.format(gs_gasNB.best_score_))"
   ]
  },
  {
   "cell_type": "markdown",
   "metadata": {},
   "source": [
    "We can se that Naive Bayes (Multinomial) performs better than Naive Bayes (Gaussian) in terms of accuracy. So far TF-IDF is has most accuracy score. We will try few other classification models to see if we can improve the accuracy score even further."
   ]
  },
  {
   "cell_type": "markdown",
   "metadata": {},
   "source": [
    "### CVEC + Decision Tree"
   ]
  },
  {
   "cell_type": "code",
   "execution_count": 60,
   "metadata": {},
   "outputs": [],
   "source": [
    "# Simple pipeline - list of tuples\n",
    "cvec_tree_pipe = Pipeline(steps=[\n",
    "    ('cv', CountVectorizer()),\n",
    "    ('tree', DecisionTreeClassifier())\n",
    "])\n",
    "\n",
    "#Params-dictionary\n",
    "cvec_tree_params = {'cv__max_features': [1000, 1500],\n",
    "                 'cv__stop_words': [{'english'}],\n",
    "                 'cv__ngram_range': [(1,1), (1,2)],\n",
    "                    'cv__min_df': [5],\n",
    "                    'cv__max_df': [.5,.1,.2],\n",
    "                 'tree__max_depth': [10,15,20],\n",
    "                 'tree__min_samples_leaf': [2],\n",
    "                  'tree__min_samples_split': [3]}\n",
    "\n",
    "gs_tree = GridSearchCV(cvec_tree_pipe, \n",
    "                    cvec_tree_params, \n",
    "                    cv = 5) \n",
    "# Fit model                         \n",
    "gs_tree.fit(X_train, y_train);"
   ]
  },
  {
   "cell_type": "code",
   "execution_count": 61,
   "metadata": {},
   "outputs": [],
   "source": [
    "gs_tree.best_estimator_ ;"
   ]
  },
  {
   "cell_type": "code",
   "execution_count": 62,
   "metadata": {},
   "outputs": [
    {
     "name": "stdout",
     "output_type": "stream",
     "text": [
      "Best TRAIN set accuracy: 0.8061\n",
      "Best TEST set accuracy: 0.7752\n",
      "Cross-val accuracy: 0.7847\n"
     ]
    }
   ],
   "source": [
    "print('Best TRAIN set accuracy: {:.4f}'.format(gs_tree.score(X_train, y_train)))\n",
    "print('Best TEST set accuracy: {:.4f}'.format(gs_tree.score(X_test, y_test)))\n",
    "print('Cross-val accuracy: {:.4f}'.format(gs_tree.best_score_))"
   ]
  },
  {
   "cell_type": "markdown",
   "metadata": {},
   "source": [
    "The scores suggest that above CART model is an slightly overfit model (accuracy on train set is slightly higher than the accuracy on test set). The difference is not that much. Moreover, the accuracy on test set is lower than the 80%. We already have model with aroun 88% accuracy. So, we will try further to see if any kind of improvment can be achieved. Therefore, we should try bagging classification model."
   ]
  },
  {
   "cell_type": "markdown",
   "metadata": {},
   "source": [
    "### CVCE + Bagging Classifier"
   ]
  },
  {
   "cell_type": "code",
   "execution_count": 63,
   "metadata": {},
   "outputs": [],
   "source": [
    "# Simple pipeline - list of tuples\n",
    "cvec_bagg_pipe = Pipeline(steps=[\n",
    "    ('cvec', CountVectorizer()),\n",
    "    ('bagg', BaggingClassifier(base_estimator=DecisionTreeClassifier()))\n",
    "])\n",
    "\n",
    "#Params-dictionary\n",
    "cvec_bagg_params = { 'cvec__max_features': [1000, 1500],\n",
    "                 'cvec__stop_words': [{'english'}],\n",
    "                    'cvec__min_df': [5],\n",
    "                    'cvec__max_df': [.5],\n",
    "                 'cvec__ngram_range': [(1,1), (1,2)],\n",
    "                 'bagg__n_estimators': [2, 5, 10], \n",
    "                  'bagg__max_samples': [.001, .1, .5, 1]\n",
    "                    }             \n",
    "\n",
    "gs_bagg = GridSearchCV(cvec_bagg_pipe, \n",
    "                    cvec_bagg_params,\n",
    "                      cv= 5) \n",
    "\n",
    "# Fit model                          \n",
    "gs_bagg.fit(X_train, y_train);"
   ]
  },
  {
   "cell_type": "code",
   "execution_count": 64,
   "metadata": {},
   "outputs": [],
   "source": [
    " gs_bagg.best_estimator_ ;"
   ]
  },
  {
   "cell_type": "code",
   "execution_count": 65,
   "metadata": {},
   "outputs": [
    {
     "name": "stdout",
     "output_type": "stream",
     "text": [
      "Best TRAIN set accuracy: 0.9437\n",
      "Best TEST set accuracy: 0.8364\n",
      "Cross-val accuracy: 0.8367\n"
     ]
    }
   ],
   "source": [
    "print('Best TRAIN set accuracy: {:.4f}'.format(gs_bagg.score(X_train, y_train)))\n",
    "print('Best TEST set accuracy: {:.4f}'.format(gs_bagg.score(X_test, y_test)))\n",
    "print('Cross-val accuracy: {:.4f}'.format(gs_bagg.best_score_))"
   ]
  },
  {
   "cell_type": "markdown",
   "metadata": {},
   "source": [
    "The accuracy score has improved compared to CART model accuracy score. however, still below our best accuracy score 88%."
   ]
  },
  {
   "cell_type": "markdown",
   "metadata": {},
   "source": [
    "### CVCE + Randomforest"
   ]
  },
  {
   "cell_type": "code",
   "execution_count": 66,
   "metadata": {},
   "outputs": [],
   "source": [
    "# Simple pipeline - list of tuples\n",
    "cvec_rf_pipe = Pipeline(steps=[\n",
    "    ('cvec', CountVectorizer()),\n",
    "    ('rf', RandomForestClassifier())\n",
    "])\n",
    "\n",
    "#Params-dictionary\n",
    "cvec_rf_params = { 'cvec__max_features': [1000, 1500],\n",
    "                 'cvec__stop_words': [{'english'}],\n",
    "                    'cvec__min_df': [5],\n",
    "                    'cvec__max_df': [.5],\n",
    "                 'cvec__ngram_range': [(1,1), (1,2)],\n",
    "                 'rf__max_depth': [2, 5, 10], \n",
    "                 'rf__min_samples_leaf': [1],\n",
    "                  'rf__min_samples_split': [3]\n",
    "                    }             \n",
    "\n",
    "gs_rf = GridSearchCV(cvec_rf_pipe, \n",
    "                    cvec_rf_params,\n",
    "                      cv= 5) \n",
    "\n",
    "# Fit model                            \n",
    "gs_rf.fit(X_train, y_train);"
   ]
  },
  {
   "cell_type": "code",
   "execution_count": 67,
   "metadata": {},
   "outputs": [],
   "source": [
    "gs_rf.best_estimator_ ;"
   ]
  },
  {
   "cell_type": "code",
   "execution_count": 68,
   "metadata": {},
   "outputs": [
    {
     "name": "stdout",
     "output_type": "stream",
     "text": [
      "Best TRAIN set accuracy: 0.8135\n",
      "Best TEST set accuracy: 0.7868\n",
      "Cross-val accuracy: 0.8026\n"
     ]
    }
   ],
   "source": [
    "print('Best TRAIN set accuracy: {:.4f}'.format(gs_rf.score(X_train, y_train)))\n",
    "print('Best TEST set accuracy: {:.4f}'.format(gs_rf.score(X_test, y_test)))\n",
    "print('Cross-val accuracy: {:.4f}'.format(gs_rf.best_score_))"
   ]
  },
  {
   "cell_type": "markdown",
   "metadata": {},
   "source": [
    "The accuracy has fallen further than Bagging Classifier model. So, couldn't improve the accuracy score than Bagging model."
   ]
  },
  {
   "cell_type": "markdown",
   "metadata": {},
   "source": [
    "## Model Selection"
   ]
  },
  {
   "cell_type": "markdown",
   "metadata": {},
   "source": [
    "We have chosen __accuracy score__ as a matric to select our model. Accuracy score refers to the percentage of observations the model predicts correctly. "
   ]
  },
  {
   "cell_type": "code",
   "execution_count": 69,
   "metadata": {},
   "outputs": [
    {
     "name": "stdout",
     "output_type": "stream",
     "text": [
      "Accuracy score for Baseline model on train set:0.5749\n",
      "Accuracy score for Baseline model on test set: 0.5747\n",
      "\n",
      "Accuracy score for CVCE + Logistic Regression on train set: 0.9469\n",
      "Accuracy score for CVCE + Logistic Regression on test set: 0.8749\n",
      "\n",
      "Accuracy score for TF-IDF + Logistic Regression on train set: 0.9469\n",
      "Accuracy score for TF-IDF + Logistic Regression on test set: 0.8839\n",
      "\n",
      "Accuracy score for CVEC + KNN on train set: 0.9609\n",
      "Accuracy score for CVEC + KNN on test set: 0.8069\n",
      "\n",
      "Accuracy score for TF-IDF + KNN on train set: 0.9778\n",
      "Accuracy score for TF-IDF + KNN on test set: 0.7261\n",
      "\n",
      "Accuracy score for CVEC + Multinomial on train set: 0.9152\n",
      "Accuracy score for CVEC + Multinomial on test set: 0.8802\n",
      "\n",
      "Accuracy score for CVEC + Gaussaian on train set: 0.8642\n",
      "Accuracy score for CVEC + Gaussaian on test set: 0.7683\n",
      "\n",
      "Accuracy score for CVEC + Decision Tree on train set: 0.8061\n",
      "Accuracy score for CVEC + Decision Tree on test set: 0.7752\n",
      "\n",
      "Accuracy score for CVEC + Bagging Classification on train set: 0.9437\n",
      "Accuracy score for CVEC + Bagging Classification on test set: 0.8364\n",
      "\n",
      "Accuracy score for CVEC + Random Forest on train set: 0.8135\n",
      "Accuracy score for CVEC + Random forest on test set: 0.7868\n"
     ]
    }
   ],
   "source": [
    "print('Accuracy score for Baseline model on train set:{:.4f}'.format(y_train.value_counts(normalize=True).max()))\n",
    "print('Accuracy score for Baseline model on test set: {:.4f}'.format(y_test.value_counts(normalize=True).max()))\n",
    "print()\n",
    "print('Accuracy score for CVCE + Logistic Regression on train set: {:.4f}'.format(logit_cv.score(X_train, y_train)))\n",
    "print('Accuracy score for CVCE + Logistic Regression on test set: {:.4f}'.format(logit_cv.score(X_test, y_test)))\n",
    "print()\n",
    "print('Accuracy score for TF-IDF + Logistic Regression on train set: {:.4f}'.format(logit_tf.score(X_train, y_train)))\n",
    "print('Accuracy score for TF-IDF + Logistic Regression on test set: {:.4f}'.format(logit_tf.score(X_test, y_test)))\n",
    "print()\n",
    "print('Accuracy score for CVEC + KNN on train set: {:.4f}'.format(knn_cv.score(X_train, y_train)))\n",
    "print('Accuracy score for CVEC + KNN on test set: {:.4f}'.format(knn_cv.score(X_test, y_test)))\n",
    "print()\n",
    "print('Accuracy score for TF-IDF + KNN on train set: {:.4f}'.format(knn_tf.score(X_train, y_train)))\n",
    "print('Accuracy score for TF-IDF + KNN on test set: {:.4f}'.format(knn_tf.score(X_test, y_test)))\n",
    "print()\n",
    "print('Accuracy score for CVEC + Multinomial on train set: {:.4f}'.format(gs_multNB.score(X_train, y_train)))\n",
    "print('Accuracy score for CVEC + Multinomial on test set: {:.4f}'.format(gs_multNB.score(X_test, y_test)))\n",
    "print()\n",
    "print('Accuracy score for CVEC + Gaussaian on train set: {:.4f}'.format(gs_gasNB.score(X_train, y_train)))\n",
    "print('Accuracy score for CVEC + Gaussaian on test set: {:.4f}'.format(gs_gasNB.score(X_test, y_test)))\n",
    "print()\n",
    "print('Accuracy score for CVEC + Decision Tree on train set: {:.4f}'.format(gs_tree.score(X_train, y_train)))\n",
    "print('Accuracy score for CVEC + Decision Tree on test set: {:.4f}'.format(gs_tree.score(X_test, y_test)))\n",
    "print()\n",
    "print('Accuracy score for CVEC + Bagging Classification on train set: {:.4f}'.format(gs_bagg.score(X_train, y_train)))\n",
    "print('Accuracy score for CVEC + Bagging Classification on test set: {:.4f}'.format(gs_bagg.score(X_test, y_test)))\n",
    "print()\n",
    "print('Accuracy score for CVEC + Random Forest on train set: {:.4f}'.format(gs_rf.score(X_train, y_train)))\n",
    "print('Accuracy score for CVEC + Random forest on test set: {:.4f}'.format(gs_rf.score(X_test, y_test)))"
   ]
  },
  {
   "cell_type": "markdown",
   "metadata": {},
   "source": [
    "The findings suggest that only four model has above 80% accuracy score - CVEC+Logistic, IF-IDF + Logistic, CVEC + KNN, CVEC+Multinomial, CVEC + Bagging Classification model."
   ]
  },
  {
   "cell_type": "markdown",
   "metadata": {},
   "source": [
    "The accuracy scores on test sets for CVEC + Multinomial and TF-IDF with a logistic Regression model are very close. However, the difference (0.8839 - 0.8802) suggests that TF-IDF + Logistic regression has slightly better accuracy. \n",
    "Thus, we can conclude that TF-IDF + Logistic regression model has the highest accuracy score on test dataset. in effect, it suggests that __TF-IDF with a logistic Regression model__ performs better than any other model. With an __accuracy of 88.39%__, it also outperforms Baseline model. The accuracy score on train set is slightly higher than accuracy score on test set, however the difference is acceptable to qualify as a good model\n"
   ]
  },
  {
   "cell_type": "markdown",
   "metadata": {},
   "source": [
    "Logistic regression is by far one of the most common classification algorithm. Logistic regression model is great at binary classifications and has interpretable coefficient. In our study the target variable is binary, if y = 1 it's movie subreddit and if y = 0 its music subreddit."
   ]
  },
  {
   "cell_type": "markdown",
   "metadata": {},
   "source": [
    "Below we will evaluate the TF-IDF with logistic Regression model using confusion matrix and coefficient interpretation."
   ]
  },
  {
   "cell_type": "markdown",
   "metadata": {},
   "source": [
    "## Model Evaluation"
   ]
  },
  {
   "cell_type": "code",
   "execution_count": 70,
   "metadata": {},
   "outputs": [],
   "source": [
    "#function for confusion matrix plotting\n",
    "#Code adopted from Mahdi Shadkam-Farrokhi\n",
    "\n",
    "def confusion_matrix_plot(y_test, y_pred):\n",
    "    # handling data\n",
    "    cm = confusion_matrix(y_test, y_pred)\n",
    "    labels = y_test.unique()\n",
    "    labels.sort()\n",
    "    \n",
    "    # plotting\n",
    "    sns.set(font_scale=1.2)\n",
    "    plt.figure(figsize=(10,4))\n",
    "    \n",
    "    sns.heatmap(cm, annot=True, fmt='g', cmap=\"YlGnBu\",xticklabels=labels, yticklabels=labels, annot_kws={\"size\": 20})\n",
    "    plt.title(\"Confusion Matrix\")\n",
    "    plt.xlabel('Predicted Class')\n",
    "    plt.ylabel('True Class')"
   ]
  },
  {
   "cell_type": "markdown",
   "metadata": {},
   "source": [
    "Our chosen metric accuracy takes into account all true predictions, both true positives and true negatives. The equation is as below:"
   ]
  },
  {
   "cell_type": "markdown",
   "metadata": {},
   "source": [
    "$$\n",
    "Accuracy = \\frac{All\\ Correct}{All\\ Predictions}\n",
    "$$\n",
    "\n",
    "$$\n",
    "= \\frac{(TP + TN)} {(TP + FP + TN + FN)}\n",
    "$$\n"
   ]
  },
  {
   "cell_type": "markdown",
   "metadata": {},
   "source": [
    "The cosufion matric for our TF-IDF with a logistic Regression model is provided below:"
   ]
  },
  {
   "cell_type": "code",
   "execution_count": 71,
   "metadata": {},
   "outputs": [
    {
     "name": "stdout",
     "output_type": "stream",
     "text": [
      "True Negatives:  718\n",
      "\n",
      "False Positives:  88\n",
      "\n",
      "False Negatives:  132\n",
      "\n",
      "True Positives:  957\n"
     ]
    }
   ],
   "source": [
    "#confusion matrix calculation\n",
    "\n",
    "confusion_matrix(y_test, logit_tf.predict(X_test))\n",
    "tn, fp, fn, tp = confusion_matrix(y_test,logit_tf.predict(X_test)).ravel()\n",
    "print(\"True Negatives: \", tn)\n",
    "print()\n",
    "print(\"False Positives: \", fp)\n",
    "print()\n",
    "print(\"False Negatives: \", fn)\n",
    "print()\n",
    "print(\"True Positives: \", tp)"
   ]
  },
  {
   "cell_type": "code",
   "execution_count": 72,
   "metadata": {},
   "outputs": [
    {
     "data": {
      "image/png": "[encoded data removed]",
      "text/plain": [
       "<Figure size 720x288 with 2 Axes>"
      ]
     },
     "metadata": {},
     "output_type": "display_data"
    }
   ],
   "source": [
    "confusion_matrix_plot(y_test, logit_tf.predict(X_test))"
   ]
  },
  {
   "cell_type": "markdown",
   "metadata": {},
   "source": [
    "We can see that our selected model has more False Negatives than False Positives. 132 False negative score suggests that our model predicted 132 observations as music subreddits while they were actually movie subreddits. on the other hand, False Positive scores suggests that our model predicted 88 models as movie subreddits while they were actually music subreddits. the above equation suggests that to improve the model performance, our model would need to convert this false prediction to true predictions. In other word, to maximize the accuracy our model needs to minimize the false negatives and false positives. On the other side, True negatives and True Positives are the predictions model did accurately. for instance, 718 true negative means model has predicted 718 observation correctly as music subreddits, while 957 true positives mean model has predicted 957 observation correctly as movies subreddits. Minimizing the false predictions would eventually maximize the true predictions"
   ]
  },
  {
   "cell_type": "markdown",
   "metadata": {},
   "source": [
    "As the model has accuracy score of 88.39%, it suggests that the misclassification rate is 11.61%. it is a measurement of what percentage of observations did the model incorrectly predict. If we review the most frequent words for both subreddits, we observe that there are few words that are common for both subreddits such as 'help' 'like' 'best'. So, it suggests that due to the presence of common words in two subreddits, our model misclassified few observations.  "
   ]
  },
  {
   "cell_type": "code",
   "execution_count": 73,
   "metadata": {},
   "outputs": [
    {
     "data": {
      "text/plain": [
       "movie       8.860043\n",
       "film        4.503210\n",
       "spoiler     2.298160\n",
       "actor       2.277341\n",
       "watched     2.196136\n",
       "endgame     1.640633\n",
       "trailer     1.613416\n",
       "scene       1.587468\n",
       "director    1.573640\n",
       "cinema      1.555622\n",
       "Name: coefficient, dtype: float64"
      ]
     },
     "execution_count": 73,
     "metadata": {},
     "output_type": "execute_result"
    }
   ],
   "source": [
    "#Coefficient \n",
    "Coefficient_list = pd.DataFrame(data=logit_tf.best_estimator_.steps[1][1].coef_[0],index=logit_tf.best_estimator_.steps[0][1].get_feature_names())  #create daatframe\n",
    "Coefficient_list.columns = ['coefficient']\n",
    "Coefficient_list['coefficient'].sort_values(ascending = False)[:10]  #show top 10 features for interpretation"
   ]
  },
  {
   "cell_type": "code",
   "execution_count": 74,
   "metadata": {},
   "outputs": [
    {
     "data": {
      "text/plain": [
       "amp        -1.616551\n",
       "ft         -1.668388\n",
       "pop        -1.711179\n",
       "artist     -2.168500\n",
       "playlist   -2.415825\n",
       "band       -2.813180\n",
       "rock       -2.843071\n",
       "album      -3.793030\n",
       "song       -4.995121\n",
       "music      -5.070868\n",
       "Name: coefficient, dtype: float64"
      ]
     },
     "execution_count": 74,
     "metadata": {},
     "output_type": "execute_result"
    }
   ],
   "source": [
    "#show last 10 features for interpretation\n",
    "Coefficient_list['coefficient'].sort_values(ascending = False)[-10:] "
   ]
  },
  {
   "cell_type": "markdown",
   "metadata": {},
   "source": [
    "The coefficient refers to the relationship between predictors and target variables. Our target variable is the subreddit type - weather it is a movie subreddit or a music subreddit.\n",
    "\n",
    "\n",
    "The coefficient for 'movie' words is 4.064 which refers that for a unit increase of the presence of word 'movie' in title, an observation is $e^{\\beta_1} = e^{9.55} = 14045$ TIMES AS LIKELY to be a movie subreddit. So basically as the word 'movie' occurrence increases by one unit in the title, an observation is 14045 TIMES AS LIKELY to be a movie subreddit. On the other hand, The coefficient for 'song' words is -5.769 which refers that for a unit increase of the presence of word 'song' in title, an observation is $(e^{\\beta_1}-1) x 100 = (e^{-5.769} -1) x 100 = 99.7$ percent LESS LIKELY to be a movie subreddit.\n"
   ]
  },
  {
   "cell_type": "markdown",
   "metadata": {},
   "source": [
    "## Conclusion"
   ]
  },
  {
   "cell_type": "markdown",
   "metadata": {},
   "source": [
    "Based on the analysis results we see that TF-IDF with a logistic Regression model performs better than other model. We have chosen accuracy score to select the best model. TF-IDF with a logistic Regression model has the highest accuracy score, which means that comparatively this model can predict highest percentage of observations correctly. The accuracy score for the selected model is above 88% on test dataset. Therefore, based on the analysis we did, we can expect that TF-IDF with a logistic Regression model can be useful technique to detect which blog post is about movies and which is about music just analysing the title of the post.  "
   ]
  },
  {
   "cell_type": "markdown",
   "metadata": {},
   "source": [
    "## Recommendation"
   ]
  },
  {
   "cell_type": "markdown",
   "metadata": {},
   "source": [
    "From the findings of the TF-IDF with a logistic Regression model I have come to these recommendations:\n",
    "\n",
    "1. Our model delivers expected results with 88% accuracy to segregate posts from 'movie' subreddit and 'music' subreddit.\n",
    "1. For maximizing accuracy score we need to minimize the false negative and false positive scores.\n",
    "2. To improve the accuracy score we need try to train the model with more data and tuining more hyparameters."
   ]
  },
  {
   "cell_type": "code",
   "execution_count": null,
   "metadata": {},
   "outputs": [],
   "source": []
  }
 ],
 "metadata": {
  "kernelspec": {
   "display_name": "Python 3",
   "language": "python",
   "name": "python3"
  },
  "language_info": {
   "codemirror_mode": {
    "name": "ipython",
    "version": 3
   },
   "file_extension": ".py",
   "mimetype": "text/x-python",
   "name": "python",
   "nbconvert_exporter": "python",
   "pygments_lexer": "ipython3",
   "version": "3.7.6"
  }
 },
 "nbformat": 4,
 "nbformat_minor": 4
}
