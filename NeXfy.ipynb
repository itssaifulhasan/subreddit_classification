{
 "cells": [
  {
   "cell_type": "markdown",
   "metadata": {},
   "source": [
    "## Problem Statement"
   ]
  },
  {
   "cell_type": "markdown",
   "metadata": {},
   "source": [
    "I am a co-founder of a small tech company which wants to develop an online streaming platform naming 'NetSpot' with a desire to compete with Netflix and Spotify. We want to serve the consumer with both movies and music on a same online platform. We also want to place a blog section where user can leave their reviews, stories and start any discussion. As a part of it we want to establish a model which can segregate the posts based on their title text so when someone searches for ‘movies’ or ‘music’, the relevant posts show up for them. Also, the model will help us to understand the users’ usage pattern, demand in future fore further business expansion. As a part of this project we want to try different classification models and select the best model that satisfy our target."
   ]
  },
  {
   "cell_type": "markdown",
   "metadata": {},
   "source": [
    "## Executive Summary"
   ]
  },
  {
   "cell_type": "markdown",
   "metadata": {},
   "source": [
    "## Table of contents"
   ]
  },
  {
   "cell_type": "markdown",
   "metadata": {},
   "source": [
    "## 1. Library import "
   ]
  },
  {
   "cell_type": "code",
   "execution_count": 1,
   "metadata": {},
   "outputs": [],
   "source": [
    "import pandas as pd\n",
    "import numpy as np\n",
    "import seaborn as sns\n",
    "import matplotlib.pyplot as plt\n",
    "import scipy.stats as stats\n",
    "import nltk\n",
    "from nltk.stem import WordNetLemmatizer #Import lemmatizer\n",
    "from nltk.tokenize import RegexpTokenizer # Import Tokenizer\n",
    "from sklearn.model_selection import train_test_split, GridSearchCV\n",
    "from sklearn.linear_model import LogisticRegression\n",
    "from sklearn.naive_bayes import MultinomialNB, GaussianNB\n",
    "from sklearn.pipeline import Pipeline\n",
    "import matplotlib.pyplot as plt\n",
    "from sklearn.neighbors import KNeighborsClassifier\n",
    "from sklearn.metrics import confusion_matrix\n",
    "from sklearn.datasets import make_classification\n",
    "from sklearn.ensemble import BaggingClassifier\n",
    "from sklearn.tree import DecisionTreeClassifier\n",
    "from sklearn.ensemble import RandomForestClassifier\n",
    "from sklearn.base import TransformerMixin\n",
    "import re\n",
    "from sklearn.feature_extraction.text import CountVectorizer, TfidfVectorizer, TfidfTransformer\n",
    "RANDOM_STATE = 42"
   ]
  },
  {
   "cell_type": "markdown",
   "metadata": {},
   "source": [
    "## 2. Import Data"
   ]
  },
  {
   "cell_type": "code",
   "execution_count": 2,
   "metadata": {},
   "outputs": [],
   "source": [
    "df_movie = pd.read_csv(\"./Data/data_movies.csv\")"
   ]
  },
  {
   "cell_type": "code",
   "execution_count": 3,
   "metadata": {},
   "outputs": [],
   "source": [
    "df_music = pd.read_csv(\"./Data/data_music.csv\")"
   ]
  },
  {
   "cell_type": "code",
   "execution_count": 4,
   "metadata": {},
   "outputs": [
    {
     "name": "stdout",
     "output_type": "stream",
     "text": [
      "(2723, 9)\n",
      "(2014, 9)\n"
     ]
    }
   ],
   "source": [
    "print(df_movie.shape)\n",
    "print(df_music.shape)"
   ]
  },
  {
   "cell_type": "code",
   "execution_count": 5,
   "metadata": {},
   "outputs": [],
   "source": [
    "df = df_movie.append(df_music)"
   ]
  },
  {
   "cell_type": "code",
   "execution_count": 6,
   "metadata": {},
   "outputs": [
    {
     "data": {
      "text/plain": [
       "(4737, 9)"
      ]
     },
     "execution_count": 6,
     "metadata": {},
     "output_type": "execute_result"
    }
   ],
   "source": [
    "df.shape"
   ]
  },
  {
   "cell_type": "code",
   "execution_count": 7,
   "metadata": {},
   "outputs": [
    {
     "data": {
      "text/html": [
       "<div>\n",
       "<style scoped>\n",
       "    .dataframe tbody tr th:only-of-type {\n",
       "        vertical-align: middle;\n",
       "    }\n",
       "\n",
       "    .dataframe tbody tr th {\n",
       "        vertical-align: top;\n",
       "    }\n",
       "\n",
       "    .dataframe thead th {\n",
       "        text-align: right;\n",
       "    }\n",
       "</style>\n",
       "<table border=\"1\" class=\"dataframe\">\n",
       "  <thead>\n",
       "    <tr style=\"text-align: right;\">\n",
       "      <th></th>\n",
       "      <th>title</th>\n",
       "      <th>selftext</th>\n",
       "      <th>subreddit</th>\n",
       "      <th>created_utc</th>\n",
       "      <th>author</th>\n",
       "      <th>num_comments</th>\n",
       "      <th>score</th>\n",
       "      <th>is_self</th>\n",
       "      <th>timestamp</th>\n",
       "    </tr>\n",
       "  </thead>\n",
       "  <tbody>\n",
       "    <tr>\n",
       "      <th>0</th>\n",
       "      <td>Need help to find a name of cyberpunk movie I ...</td>\n",
       "      <td>[removed]</td>\n",
       "      <td>movies</td>\n",
       "      <td>1584584017</td>\n",
       "      <td>slvrbat</td>\n",
       "      <td>0</td>\n",
       "      <td>1</td>\n",
       "      <td>True</td>\n",
       "      <td>2020-03-18</td>\n",
       "    </tr>\n",
       "    <tr>\n",
       "      <th>1</th>\n",
       "      <td>my coronavirus movie picks</td>\n",
       "      <td>pls comment if you want too add films or categ...</td>\n",
       "      <td>movies</td>\n",
       "      <td>1584584059</td>\n",
       "      <td>Bobatron1010</td>\n",
       "      <td>13</td>\n",
       "      <td>2</td>\n",
       "      <td>True</td>\n",
       "      <td>2020-03-18</td>\n",
       "    </tr>\n",
       "  </tbody>\n",
       "</table>\n",
       "</div>"
      ],
      "text/plain": [
       "                                               title  \\\n",
       "0  Need help to find a name of cyberpunk movie I ...   \n",
       "1                         my coronavirus movie picks   \n",
       "\n",
       "                                            selftext subreddit  created_utc  \\\n",
       "0                                          [removed]    movies   1584584017   \n",
       "1  pls comment if you want too add films or categ...    movies   1584584059   \n",
       "\n",
       "         author  num_comments  score  is_self   timestamp  \n",
       "0       slvrbat             0      1     True  2020-03-18  \n",
       "1  Bobatron1010            13      2     True  2020-03-18  "
      ]
     },
     "execution_count": 7,
     "metadata": {},
     "output_type": "execute_result"
    }
   ],
   "source": [
    "df[:2]"
   ]
  },
  {
   "cell_type": "markdown",
   "metadata": {},
   "source": [
    "## 3. Data Cleaning "
   ]
  },
  {
   "cell_type": "code",
   "execution_count": 8,
   "metadata": {},
   "outputs": [
    {
     "data": {
      "text/plain": [
       "0"
      ]
     },
     "execution_count": 8,
     "metadata": {},
     "output_type": "execute_result"
    }
   ],
   "source": [
    "df.duplicated().sum()  #checking duplicate"
   ]
  },
  {
   "cell_type": "code",
   "execution_count": 9,
   "metadata": {},
   "outputs": [
    {
     "data": {
      "text/html": [
       "<div>\n",
       "<style scoped>\n",
       "    .dataframe tbody tr th:only-of-type {\n",
       "        vertical-align: middle;\n",
       "    }\n",
       "\n",
       "    .dataframe tbody tr th {\n",
       "        vertical-align: top;\n",
       "    }\n",
       "\n",
       "    .dataframe thead th {\n",
       "        text-align: right;\n",
       "    }\n",
       "</style>\n",
       "<table border=\"1\" class=\"dataframe\">\n",
       "  <thead>\n",
       "    <tr style=\"text-align: right;\">\n",
       "      <th></th>\n",
       "      <th>title</th>\n",
       "      <th>selftext</th>\n",
       "      <th>subreddit</th>\n",
       "      <th>created_utc</th>\n",
       "      <th>author</th>\n",
       "      <th>num_comments</th>\n",
       "      <th>score</th>\n",
       "      <th>is_self</th>\n",
       "      <th>timestamp</th>\n",
       "    </tr>\n",
       "  </thead>\n",
       "  <tbody>\n",
       "    <tr>\n",
       "      <th>0</th>\n",
       "      <td>Need help to find a name of cyberpunk movie I ...</td>\n",
       "      <td>[removed]</td>\n",
       "      <td>movies</td>\n",
       "      <td>1584584017</td>\n",
       "      <td>slvrbat</td>\n",
       "      <td>0</td>\n",
       "      <td>1</td>\n",
       "      <td>True</td>\n",
       "      <td>2020-03-18</td>\n",
       "    </tr>\n",
       "    <tr>\n",
       "      <th>1</th>\n",
       "      <td>my coronavirus movie picks</td>\n",
       "      <td>pls comment if you want too add films or categ...</td>\n",
       "      <td>movies</td>\n",
       "      <td>1584584059</td>\n",
       "      <td>Bobatron1010</td>\n",
       "      <td>13</td>\n",
       "      <td>2</td>\n",
       "      <td>True</td>\n",
       "      <td>2020-03-18</td>\n",
       "    </tr>\n",
       "    <tr>\n",
       "      <th>2</th>\n",
       "      <td>Need Help deciding a movie to watch</td>\n",
       "      <td>[removed]</td>\n",
       "      <td>movies</td>\n",
       "      <td>1584584341</td>\n",
       "      <td>Shidoitsukasan</td>\n",
       "      <td>0</td>\n",
       "      <td>1</td>\n",
       "      <td>True</td>\n",
       "      <td>2020-03-18</td>\n",
       "    </tr>\n",
       "    <tr>\n",
       "      <th>3</th>\n",
       "      <td>Need help deciding what to watch</td>\n",
       "      <td>[removed]</td>\n",
       "      <td>movies</td>\n",
       "      <td>1584584378</td>\n",
       "      <td>Shidoitsukasan</td>\n",
       "      <td>0</td>\n",
       "      <td>1</td>\n",
       "      <td>True</td>\n",
       "      <td>2020-03-18</td>\n",
       "    </tr>\n",
       "    <tr>\n",
       "      <th>4</th>\n",
       "      <td>Would anyone else like to see Arnold in a film...</td>\n",
       "      <td>[removed]</td>\n",
       "      <td>movies</td>\n",
       "      <td>1584585786</td>\n",
       "      <td>sirjackiechiles</td>\n",
       "      <td>0</td>\n",
       "      <td>1</td>\n",
       "      <td>True</td>\n",
       "      <td>2020-03-18</td>\n",
       "    </tr>\n",
       "    <tr>\n",
       "      <th>...</th>\n",
       "      <td>...</td>\n",
       "      <td>...</td>\n",
       "      <td>...</td>\n",
       "      <td>...</td>\n",
       "      <td>...</td>\n",
       "      <td>...</td>\n",
       "      <td>...</td>\n",
       "      <td>...</td>\n",
       "      <td>...</td>\n",
       "    </tr>\n",
       "    <tr>\n",
       "      <th>2009</th>\n",
       "      <td>Check out our post on alternative guest book i...</td>\n",
       "      <td>[removed]</td>\n",
       "      <td>Music</td>\n",
       "      <td>1535389865</td>\n",
       "      <td>steelasophical</td>\n",
       "      <td>0</td>\n",
       "      <td>1</td>\n",
       "      <td>True</td>\n",
       "      <td>2018-08-27</td>\n",
       "    </tr>\n",
       "    <tr>\n",
       "      <th>2010</th>\n",
       "      <td>Soundcloud beats</td>\n",
       "      <td>yoyo, im a young soundcloud beatmaker tryna pr...</td>\n",
       "      <td>Music</td>\n",
       "      <td>1535390701</td>\n",
       "      <td>bitchwhasyoname</td>\n",
       "      <td>4</td>\n",
       "      <td>0</td>\n",
       "      <td>True</td>\n",
       "      <td>2018-08-27</td>\n",
       "    </tr>\n",
       "    <tr>\n",
       "      <th>2011</th>\n",
       "      <td>Can anyone recommend any lesser known guitaris...</td>\n",
       "      <td>Looking for some nice blues rock with great so...</td>\n",
       "      <td>Music</td>\n",
       "      <td>1535391072</td>\n",
       "      <td>alonabc</td>\n",
       "      <td>1</td>\n",
       "      <td>1</td>\n",
       "      <td>True</td>\n",
       "      <td>2018-08-27</td>\n",
       "    </tr>\n",
       "    <tr>\n",
       "      <th>2012</th>\n",
       "      <td>'Sharp Objects' Music Supervisor Susan Jacobs ...</td>\n",
       "      <td>\\n\\nMusic supervisor Susan Jacobs is a condui...</td>\n",
       "      <td>Music</td>\n",
       "      <td>1535391300</td>\n",
       "      <td>jenelyngalve</td>\n",
       "      <td>3</td>\n",
       "      <td>4</td>\n",
       "      <td>True</td>\n",
       "      <td>2018-08-27</td>\n",
       "    </tr>\n",
       "    <tr>\n",
       "      <th>2013</th>\n",
       "      <td>Steelasophical Steel Band Music, Steelasophica...</td>\n",
       "      <td>[removed]</td>\n",
       "      <td>Music</td>\n",
       "      <td>1535391743</td>\n",
       "      <td>steelasophical</td>\n",
       "      <td>0</td>\n",
       "      <td>1</td>\n",
       "      <td>True</td>\n",
       "      <td>2018-08-27</td>\n",
       "    </tr>\n",
       "  </tbody>\n",
       "</table>\n",
       "<p>4737 rows × 9 columns</p>\n",
       "</div>"
      ],
      "text/plain": [
       "                                                  title  \\\n",
       "0     Need help to find a name of cyberpunk movie I ...   \n",
       "1                            my coronavirus movie picks   \n",
       "2                   Need Help deciding a movie to watch   \n",
       "3                      Need help deciding what to watch   \n",
       "4     Would anyone else like to see Arnold in a film...   \n",
       "...                                                 ...   \n",
       "2009  Check out our post on alternative guest book i...   \n",
       "2010                                   Soundcloud beats   \n",
       "2011  Can anyone recommend any lesser known guitaris...   \n",
       "2012  'Sharp Objects' Music Supervisor Susan Jacobs ...   \n",
       "2013  Steelasophical Steel Band Music, Steelasophica...   \n",
       "\n",
       "                                               selftext subreddit  \\\n",
       "0                                             [removed]    movies   \n",
       "1     pls comment if you want too add films or categ...    movies   \n",
       "2                                             [removed]    movies   \n",
       "3                                             [removed]    movies   \n",
       "4                                             [removed]    movies   \n",
       "...                                                 ...       ...   \n",
       "2009                                          [removed]     Music   \n",
       "2010  yoyo, im a young soundcloud beatmaker tryna pr...     Music   \n",
       "2011  Looking for some nice blues rock with great so...     Music   \n",
       "2012   \\n\\nMusic supervisor Susan Jacobs is a condui...     Music   \n",
       "2013                                          [removed]     Music   \n",
       "\n",
       "      created_utc           author  num_comments  score  is_self   timestamp  \n",
       "0      1584584017          slvrbat             0      1     True  2020-03-18  \n",
       "1      1584584059     Bobatron1010            13      2     True  2020-03-18  \n",
       "2      1584584341   Shidoitsukasan             0      1     True  2020-03-18  \n",
       "3      1584584378   Shidoitsukasan             0      1     True  2020-03-18  \n",
       "4      1584585786  sirjackiechiles             0      1     True  2020-03-18  \n",
       "...           ...              ...           ...    ...      ...         ...  \n",
       "2009   1535389865   steelasophical             0      1     True  2018-08-27  \n",
       "2010   1535390701  bitchwhasyoname             4      0     True  2018-08-27  \n",
       "2011   1535391072          alonabc             1      1     True  2018-08-27  \n",
       "2012   1535391300     jenelyngalve             3      4     True  2018-08-27  \n",
       "2013   1535391743   steelasophical             0      1     True  2018-08-27  \n",
       "\n",
       "[4737 rows x 9 columns]"
      ]
     },
     "execution_count": 9,
     "metadata": {},
     "output_type": "execute_result"
    }
   ],
   "source": [
    "df"
   ]
  },
  {
   "cell_type": "code",
   "execution_count": 10,
   "metadata": {},
   "outputs": [],
   "source": [
    "#assigning values to target variable \n",
    "\n",
    "df['subreddit'] = [1 if i == 'movies' else 0 for i in df['subreddit']]  "
   ]
  },
  {
   "cell_type": "code",
   "execution_count": 11,
   "metadata": {},
   "outputs": [],
   "source": [
    "# writing function to clean title\n",
    "\n",
    "def review_to_title(title):\n",
    "    \n",
    "    # 2. Remove non-letters.\n",
    "    title = re.sub(\"[^a-zA-Z]\", \" \", title)\n",
    "    \n",
    "    # 3. Convert to lower case\n",
    "    title = title.lower()\n",
    "    \n",
    "    # Remove hashtags\n",
    "    title = re.sub(r'#\\w*', '', title)\n",
    "    \n",
    "    # Remove HTML special entities (e.g. &amp;)\n",
    "    title = re.sub(r'\\&\\w*;', '', title)\n",
    "    \n",
    "    #punctuation\n",
    "    title = re.sub(r'[?|!|\\'|#]', r'', title)\n",
    "    \n",
    "    # Remove hyperlinks\n",
    "    title = re.sub(r'https?:\\/\\/.*\\/\\w*', '', title)\n",
    "    \n",
    "    # Remove whitespace (including new line characters)\n",
    "    title = re.sub(r'\\s\\s+', ' ', title)\n",
    "    \n",
    "    return title "
   ]
  },
  {
   "cell_type": "code",
   "execution_count": 12,
   "metadata": {},
   "outputs": [],
   "source": [
    "df['title'] = df['title'].map(review_to_title)"
   ]
  },
  {
   "cell_type": "code",
   "execution_count": 13,
   "metadata": {},
   "outputs": [
    {
     "data": {
      "text/plain": [
       "(4737, 9)"
      ]
     },
     "execution_count": 13,
     "metadata": {},
     "output_type": "execute_result"
    }
   ],
   "source": [
    "df.shape"
   ]
  },
  {
   "cell_type": "code",
   "execution_count": 14,
   "metadata": {},
   "outputs": [
    {
     "data": {
      "text/plain": [
       "0"
      ]
     },
     "execution_count": 14,
     "metadata": {},
     "output_type": "execute_result"
    }
   ],
   "source": [
    "df['title'].isnull().sum()  #checking null values"
   ]
  },
  {
   "cell_type": "code",
   "execution_count": 15,
   "metadata": {},
   "outputs": [],
   "source": [
    "# Lemmatizing\n",
    "\n",
    "lemmatizer = WordNetLemmatizer()\n",
    "\n",
    "def lemmatize_words(title):\n",
    "    words = title.split()\n",
    "    lemma_words = ''\n",
    "    for word in words:\n",
    "        lemma_words += (lemmatizer.lemmatize(word) + ' ')\n",
    "    return lemma_words"
   ]
  },
  {
   "cell_type": "code",
   "execution_count": 16,
   "metadata": {},
   "outputs": [],
   "source": [
    "df['title'] = df['title'].apply(lemmatize_words)"
   ]
  },
  {
   "cell_type": "markdown",
   "metadata": {},
   "source": [
    "## 4. Pre-processing corpus"
   ]
  },
  {
   "cell_type": "markdown",
   "metadata": {},
   "source": [
    "### Brief exploration on corpus "
   ]
  },
  {
   "cell_type": "code",
   "execution_count": 18,
   "metadata": {},
   "outputs": [],
   "source": [
    "#countvectorizer on whole data \n",
    "\n",
    "count_vect = CountVectorizer(\n",
    "                             analyzer = \"word\", \n",
    "                             stop_words = \"english\", \n",
    "                             max_features = 1000,\n",
    "                             ngram_range= (1,2)\n",
    "                            )\n",
    "\n",
    "df_words = count_vect.fit_transform(df['title'])  #fit_transform the vectorizer\n",
    "df_words = df_words.toarray() #output"
   ]
  },
  {
   "cell_type": "code",
   "execution_count": 19,
   "metadata": {},
   "outputs": [
    {
     "name": "stdout",
     "output_type": "stream",
     "text": [
      "['able', 'absolutely', 'acoustic', 'action', 'action movie', 'actor', 'actor actress', 'actress', 'actually', 'ad', 'ad astra', 'adaptation', 'add', 'added', 'adventure']\n"
     ]
    }
   ],
   "source": [
    "print(list(count_vect.get_feature_names())[:15])"
   ]
  },
  {
   "cell_type": "code",
   "execution_count": 20,
   "metadata": {},
   "outputs": [],
   "source": [
    "covec_df = pd.DataFrame(df_words, columns = count_vect.get_feature_names()) # creating a dataframe"
   ]
  },
  {
   "cell_type": "code",
   "execution_count": 167,
   "metadata": {},
   "outputs": [
    {
     "data": {
      "text/plain": [
       "Text(0, 0.5, 'words')"
      ]
     },
     "execution_count": 167,
     "metadata": {},
     "output_type": "execute_result"
    },
    {
     "data": {
      "image/png": "[encoded data removed]",
      "text/plain": [
       "<Figure size 1080x864 with 1 Axes>"
      ]
     },
     "metadata": {},
     "output_type": "display_data"
    }
   ],
   "source": [
    "plt.style.use('seaborn')\n",
    "plt.figure(figsize = (15,12))\n",
    "covec_df.sum().sort_values(ascending=False).head(15).plot(kind = 'barh', color ='g', fontsize = 15)\n",
    "plt.title(\"20 Most Common Words used in the titles in corpus\", fontsize = 20)\n",
    "plt.xlabel('Frequency', fontsize =20)\n",
    "plt.ylabel ('words', fontsize = 20)"
   ]
  },
  {
   "cell_type": "code",
   "execution_count": 143,
   "metadata": {},
   "outputs": [
    {
     "name": "stdout",
     "output_type": "stream",
     "text": [
      "4737\n"
     ]
    }
   ],
   "source": [
    "print(len(df['title']))"
   ]
  },
  {
   "cell_type": "code",
   "execution_count": 174,
   "metadata": {},
   "outputs": [
    {
     "data": {
      "image/png": "[encoded data removed]",
      "text/plain": [
       "<Figure size 720x576 with 1 Axes>"
      ]
     },
     "metadata": {},
     "output_type": "display_data"
    }
   ],
   "source": [
    "plt.style.use('seaborn')\n",
    "plt.figure(figsize = (10,8))\n",
    "lengths_of_posts = [len(each) for each in df['title']]  #adopted code from Noah\n",
    "plt.hist(lengths_of_posts)\n",
    "plt.xlabel('length by words', fontsize =15)\n",
    "plt.ylabel ('number of submissions', fontsize = 15)\n",
    "plt.title('Histogram of the title Lengths by words', fontsize = 15);"
   ]
  },
  {
   "cell_type": "code",
   "execution_count": 175,
   "metadata": {},
   "outputs": [
    {
     "data": {
      "text/plain": [
       "Text(0, 0.5, 'subreddit:    1 = Movie  0 = Music')"
      ]
     },
     "execution_count": 175,
     "metadata": {},
     "output_type": "execute_result"
    },
    {
     "data": {
      "image/png": "[encoded data removed]",
      "text/plain": [
       "<Figure size 504x504 with 1 Axes>"
      ]
     },
     "metadata": {},
     "output_type": "display_data"
    }
   ],
   "source": [
    "plt.style.use('seaborn')\n",
    "plt.figure(figsize = (7,7))\n",
    "df.groupby('subreddit')['score'].mean().plot(kind='barh', color ='brown', fontsize = 15);\n",
    "plt.title('Average score per submission', fontsize = 15)\n",
    "plt.xlabel('Average score', fontsize =12)\n",
    "plt.ylabel ('subreddit:    1 = Movie  0 = Music', fontsize = 15)"
   ]
  },
  {
   "cell_type": "markdown",
   "metadata": {},
   "source": [
    "### Brief exploration on movies and music dataset individually"
   ]
  },
  {
   "cell_type": "markdown",
   "metadata": {},
   "source": [
    "### _Counvectorizer_"
   ]
  },
  {
   "cell_type": "code",
   "execution_count": 92,
   "metadata": {},
   "outputs": [],
   "source": [
    "#most frequent words for movies\n",
    "\n",
    "count_vect = CountVectorizer(\n",
    "                             analyzer = \"word\", \n",
    "                             stop_words = \"english\", \n",
    "                             max_features = 1000,\n",
    "                             ngram_range= (1,2)\n",
    "                            )\n",
    "\n",
    "vector_input_music = df[df['subreddit'] == 1]['title']  # input for CountVectorizer\n",
    "movie_words = count_vect.fit_transform(vector_input_music)  #fit_transform the vectorizer\n",
    "movie_words = movie_words.toarray() #output"
   ]
  },
  {
   "cell_type": "code",
   "execution_count": 93,
   "metadata": {},
   "outputs": [
    {
     "name": "stdout",
     "output_type": "stream",
     "text": [
      "['able', 'absolutely', 'acting', 'action', 'action movie', 'actor', 'actor actress', 'actress', 'actually', 'ad', 'ad astra', 'adaptation', 'added', 'adventure', 'ago']\n"
     ]
    }
   ],
   "source": [
    "print(list(count_vect.get_feature_names())[:15])"
   ]
  },
  {
   "cell_type": "code",
   "execution_count": 96,
   "metadata": {},
   "outputs": [],
   "source": [
    "covec_movie = pd.DataFrame(movie_words, columns = count_vect.get_feature_names())  #creating Dataframe"
   ]
  },
  {
   "cell_type": "code",
   "execution_count": 135,
   "metadata": {},
   "outputs": [
    {
     "data": {
      "text/plain": [
       "Text(0, 0.5, 'words')"
      ]
     },
     "execution_count": 135,
     "metadata": {},
     "output_type": "execute_result"
    },
    {
     "data": {
      "image/png": "[encoded data removed]",
      "text/plain": [
       "<Figure size 1080x864 with 1 Axes>"
      ]
     },
     "metadata": {},
     "output_type": "display_data"
    }
   ],
   "source": [
    "plt.style.use('seaborn')\n",
    "plt.figure(figsize = (15,12))\n",
    "covec_movie.sum().sort_values(ascending= False).head(15).plot(kind = 'barh', color ='g', fontsize = 15)\n",
    "plt.title(\"20 Most Common Words used in title for movie subreddit\", fontsize = 20)\n",
    "plt.xlabel('Frequency', fontsize =20)\n",
    "plt.ylabel ('words', fontsize = 20)"
   ]
  },
  {
   "cell_type": "code",
   "execution_count": 131,
   "metadata": {},
   "outputs": [],
   "source": [
    "#most frequent words for music\n",
    "\n",
    "count_vect = CountVectorizer(\n",
    "                            analyzer = \"word\", \n",
    "                             stop_words = \"english\", \n",
    "                             max_features = 1000,\n",
    "                             ngram_range=(1, 2)\n",
    "                            ) \n",
    "\n",
    "vector_input_music = df[df['subreddit'] == 0]['title'] # input for CountVectorizer\n",
    "\n",
    "music_words = count_vect.fit_transform(vector_input_music) #fit_transform the vectorizer\n",
    "\n",
    "music_words = music_words.toarray() #output "
   ]
  },
  {
   "cell_type": "code",
   "execution_count": 132,
   "metadata": {},
   "outputs": [
    {
     "name": "stdout",
     "output_type": "stream",
     "text": [
      "['acoustic', 'african', 'ago', 'air', 'alan', 'alan walker', 'album', 'album cover', 'album review', 'album year', 'album zip', 'alex', 'alt', 'alternative', 'alternative rock']\n"
     ]
    }
   ],
   "source": [
    "print(list(count_vect.get_feature_names())[:15])"
   ]
  },
  {
   "cell_type": "code",
   "execution_count": 133,
   "metadata": {},
   "outputs": [],
   "source": [
    "covec_music = pd.DataFrame(music_words, columns = count_vect.get_feature_names()) #creating Dataframe"
   ]
  },
  {
   "cell_type": "code",
   "execution_count": 136,
   "metadata": {},
   "outputs": [
    {
     "data": {
      "text/plain": [
       "Text(0, 0.5, 'words')"
      ]
     },
     "execution_count": 136,
     "metadata": {},
     "output_type": "execute_result"
    },
    {
     "data": {
      "image/png": "[encoded data removed]",
      "text/plain": [
       "<Figure size 1080x864 with 1 Axes>"
      ]
     },
     "metadata": {},
     "output_type": "display_data"
    }
   ],
   "source": [
    "plt.style.use('seaborn')\n",
    "plt.figure(figsize = (15,12))\n",
    "covec_music.sum().sort_values(ascending=False).head(15).plot(kind = 'barh', color ='c', fontsize = 15)\n",
    "plt.title(\"20 Most Common Words used in title for music subreddit\", fontsize = 20)\n",
    "plt.xlabel('Frequency', fontsize =20)\n",
    "plt.ylabel ('words', fontsize = 20)"
   ]
  },
  {
   "cell_type": "markdown",
   "metadata": {},
   "source": [
    "### _TF-IDF Vectorizer_"
   ]
  },
  {
   "cell_type": "code",
   "execution_count": 30,
   "metadata": {},
   "outputs": [
    {
     "data": {
      "text/plain": [
       "movie      170.736088\n",
       "film        43.897307\n",
       "help        40.614416\n",
       "best        32.627449\n",
       "watch       27.695621\n",
       "wa          24.072006\n",
       "like        23.337639\n",
       "time        22.249508\n",
       "good        21.254840\n",
       "spoiler     20.900867\n",
       "dtype: float64"
      ]
     },
     "execution_count": 30,
     "metadata": {},
     "output_type": "execute_result"
    }
   ],
   "source": [
    "#tfidf vectorizer for movie words\n",
    "\n",
    "tfdf = TfidfVectorizer(\n",
    "                     analyzer = \"word\", \n",
    "                     stop_words = 'english', \n",
    "                     max_features = 10000, \n",
    "                     ngram_range = (1, 2)\n",
    "                         )\n",
    "\n",
    "tfdf_input_movie = df[df['subreddit'] == 1]['title']  # input for CountVectorizer\n",
    "\n",
    "tfdf_movie_words = tfdf.fit_transform(tfdf_input_movie) #fit-transform\n",
    "\n",
    "tfdf_movie_words = tfdf_movie_words.toarray() #output\n",
    "\n",
    "tfdf_movie = pd.DataFrame(tfdf_movie_words, columns=tfdf.get_feature_names())  #create Dataframe\n",
    "\n",
    "tfdf_movie.sum().sort_values(ascending=False).head(10)  "
   ]
  },
  {
   "cell_type": "code",
   "execution_count": 31,
   "metadata": {},
   "outputs": [
    {
     "data": {
      "text/plain": [
       "song        68.327028\n",
       "music       49.640428\n",
       "help        33.010439\n",
       "album       24.046394\n",
       "new         23.307100\n",
       "band        17.784376\n",
       "looking     17.755175\n",
       "need        17.753946\n",
       "playlist    16.433595\n",
       "genre       16.352990\n",
       "dtype: float64"
      ]
     },
     "execution_count": 31,
     "metadata": {},
     "output_type": "execute_result"
    }
   ],
   "source": [
    "#tfidf vectorizer for music words\n",
    "\n",
    "tfdf = TfidfVectorizer(\n",
    "                     analyzer = \"word\", \n",
    "                     stop_words = 'english', \n",
    "                     max_features = 10000, \n",
    "                     ngram_range = (1, 2)\n",
    "                         )\n",
    "\n",
    "tfdf_input_music = df[df['subreddit'] == 0]['title']  # input for CountVectorizer\n",
    "\n",
    "tfdf_music_words = tfdf.fit_transform(tfdf_input_music) #fit-transform\n",
    "\n",
    "tfdf_music_words = tfdf_music_words.toarray() #output\n",
    "\n",
    "tfdf_music = pd.DataFrame(tfdf_music_words, columns=tfdf.get_feature_names())  #create Dataframe\n",
    "\n",
    "tfdf_music.sum().sort_values(ascending=False).head(10)  "
   ]
  },
  {
   "cell_type": "markdown",
   "metadata": {},
   "source": [
    "## 5. Model Preparation"
   ]
  },
  {
   "cell_type": "code",
   "execution_count": 244,
   "metadata": {},
   "outputs": [],
   "source": [
    "X = df['title']\n",
    "y = df['subreddit']\n",
    "X_train, X_test, y_train, y_test = train_test_split(X, y, stratify=y, test_size = 0.40, random_state=RANDOM_STATE)"
   ]
  },
  {
   "cell_type": "markdown",
   "metadata": {},
   "source": [
    "## 6. Modelling "
   ]
  },
  {
   "cell_type": "markdown",
   "metadata": {},
   "source": [
    "### Baseline Model"
   ]
  },
  {
   "cell_type": "markdown",
   "metadata": {},
   "source": [
    "Baseline model is actually the mean value of target varaibles. Both train and test set has two means each, one for music ( y = 0) and one for movies (y = 1). The best of this two mean is choosen as the best baseline score for each set."
   ]
  },
  {
   "cell_type": "code",
   "execution_count": 184,
   "metadata": {},
   "outputs": [
    {
     "name": "stdout",
     "output_type": "stream",
     "text": [
      "Best baseline accuracy on TRAIN set: 0.5749472202674173\n",
      "Best baseline accuracy on TEST set: 0.5746701846965699\n"
     ]
    }
   ],
   "source": [
    "print('Best baseline accuracy on TRAIN set:', y_train.value_counts(normalize=True).max())\n",
    "print('Best baseline accuracy on TEST set:', y_test.value_counts(normalize=True).max())"
   ]
  },
  {
   "cell_type": "markdown",
   "metadata": {},
   "source": [
    "### CVEC + Logistic Regression"
   ]
  },
  {
   "cell_type": "code",
   "execution_count": 237,
   "metadata": {},
   "outputs": [],
   "source": [
    "# Instantiate pipeline.\n",
    "pipe_cv = Pipeline([\n",
    "    ('cv', CountVectorizer()),\n",
    "    ('logit', LogisticRegression(solver = 'lbfgs'))\n",
    "])\n",
    "\n",
    "# Define grid of parameters to GridSearch over.\n",
    "params_grid = {\n",
    "    'cv__max_features': [1000, 1500],\n",
    "    'cv__stop_words': ['english'],\n",
    "    'cv__ngram_range': [(1,1), (1,2)]\n",
    "}\n",
    "\n",
    "# GridSearch over pipeline with given grid of parameters.\n",
    "logit_cv = GridSearchCV(pipe_cv, \n",
    "                     params_grid, \n",
    "                     cv=5, \n",
    "                     scoring ='accuracy')\n",
    "\n",
    "# Fit model.\n",
    "logit_cv.fit(X_train, y_train);"
   ]
  },
  {
   "cell_type": "code",
   "execution_count": 238,
   "metadata": {},
   "outputs": [
    {
     "data": {
      "text/plain": [
       "{'cv__max_features': 1500,\n",
       " 'cv__ngram_range': (1, 1),\n",
       " 'cv__stop_words': 'english'}"
      ]
     },
     "execution_count": 238,
     "metadata": {},
     "output_type": "execute_result"
    }
   ],
   "source": [
    "logit_cv.best_params_"
   ]
  },
  {
   "cell_type": "code",
   "execution_count": 241,
   "metadata": {},
   "outputs": [],
   "source": [
    "logit_cv.best_estimator_ ;"
   ]
  },
  {
   "cell_type": "code",
   "execution_count": 198,
   "metadata": {},
   "outputs": [
    {
     "name": "stdout",
     "output_type": "stream",
     "text": [
      "Best TRAIN set accuracy: 0.8716\n",
      "Best TEST set accuracy: 0.8744\n"
     ]
    }
   ],
   "source": [
    "train_score = logit_cv.best_score_\n",
    "print('Best TRAIN set accuracy: {:.4f}'.format(train_score))\n",
    "test_score = logit_cv.score(X_test, y_test)\n",
    "print('Best TEST set accuracy: {:.4f}'.format(test_score))"
   ]
  },
  {
   "cell_type": "code",
   "execution_count": 242,
   "metadata": {},
   "outputs": [
    {
     "name": "stdout",
     "output_type": "stream",
     "text": [
      "Classification metric:\n",
      "accuracy:               0.8744 \n",
      "missclassification:     0.1256 \n",
      "sensitivity:            0.8843\n",
      "specificity:            0.8610 \n",
      "precise:                0.8958 \n"
     ]
    }
   ],
   "source": [
    "y_preds = logit_cv.predict(X_test);\n",
    "confusion_matrix(y_test, y_preds);\n",
    "tn, fp, fn, tp = confusion_matrix(y_test, y_preds).ravel();\n",
    "\n",
    "print('Classification metric:')\n",
    "print(\"accuracy:               {:.4f} \".format(((tp + tn)/(tp + tn + fp + fn))))\n",
    "print(\"missclassification:     {:.4f} \".format(1 - ((tp + tn)/(tp + tn + fp + fn))))\n",
    "print(\"sensitivity:            {:.4f}\".format((tp /(tp+fn))))\n",
    "print(\"specificity:            {:.4f} \".format((tn/(tn+fp))))\n",
    "print(\"precise:                {:.4f} \".format((tp/(tp+fp))))"
   ]
  },
  {
   "cell_type": "markdown",
   "metadata": {},
   "source": [
    "### TF-IDF + Logistic Regression"
   ]
  },
  {
   "cell_type": "code",
   "execution_count": 203,
   "metadata": {},
   "outputs": [],
   "source": [
    "# Instantiate pipeline.\n",
    "pipe_tf = Pipeline([\n",
    "    ('tf', TfidfVectorizer()),\n",
    "    ('logit', LogisticRegression())\n",
    "])\n",
    "\n",
    "# Define grid of parameters to GridSearch over.\n",
    "params_grid = {\n",
    "    'tf__max_features': [1000, 1500],\n",
    "    'tf__stop_words': ['english'],\n",
    "    'tf__ngram_range': [(1,1), (1,2)]\n",
    "}\n",
    "\n",
    "# GridSearch over pipeline with given grid of parameters.\n",
    "logit_tf = GridSearchCV(pipe_tf, params_grid, cv=5)\n",
    "\n",
    "# Fit model.\n",
    "logit_tf.fit(X_train, y_train);"
   ]
  },
  {
   "cell_type": "code",
   "execution_count": 204,
   "metadata": {},
   "outputs": [
    {
     "data": {
      "text/plain": [
       "{'tf__max_features': 1500,\n",
       " 'tf__ngram_range': (1, 1),\n",
       " 'tf__stop_words': 'english'}"
      ]
     },
     "execution_count": 204,
     "metadata": {},
     "output_type": "execute_result"
    }
   ],
   "source": [
    "logit_tf.best_params_"
   ]
  },
  {
   "cell_type": "code",
   "execution_count": 205,
   "metadata": {},
   "outputs": [],
   "source": [
    "logit_tf.best_estimator_ ;"
   ]
  },
  {
   "cell_type": "code",
   "execution_count": 206,
   "metadata": {},
   "outputs": [
    {
     "name": "stdout",
     "output_type": "stream",
     "text": [
      "Best TRAIN set accuracy: 0.8698\n",
      "Best TEST set accuracy: 0.8728\n"
     ]
    }
   ],
   "source": [
    "train_score = logit_tf.best_score_\n",
    "print('Best TRAIN set accuracy: {:.4f}'.format(train_score))\n",
    "test_score = logit_tf.score(X_test, y_test)\n",
    "print('Best TEST set accuracy: {:.4f}'.format(test_score))"
   ]
  },
  {
   "cell_type": "code",
   "execution_count": 207,
   "metadata": {},
   "outputs": [
    {
     "name": "stdout",
     "output_type": "stream",
     "text": [
      "Classification metric:\n",
      "accuracy:               0.8728 \n",
      "missclassification:     0.1272 \n",
      "sensitivity:            0.9412\n",
      "specificity:            0.7804 \n",
      "precise:                0.8527 \n"
     ]
    }
   ],
   "source": [
    "y_preds = logit_tf.predict(X_test);\n",
    "confusion_matrix(y_test, y_preds);\n",
    "tn, fp, fn, tp = confusion_matrix(y_test, y_preds).ravel();\n",
    "\n",
    "print('Classification metric:')\n",
    "print(\"accuracy:               {:.4f} \".format(((tp + tn)/(tp + tn + fp + fn))))\n",
    "print(\"missclassification:     {:.4f} \".format(1 - ((tp + tn)/(tp + tn + fp + fn))))\n",
    "print(\"sensitivity:            {:.4f}\".format((tp /(tp+fn))))\n",
    "print(\"specificity:            {:.4f} \".format((tn/(tn+fp))))\n",
    "print(\"precise:                {:.4f} \".format((tp/(tp+fp))))"
   ]
  },
  {
   "cell_type": "markdown",
   "metadata": {},
   "source": [
    "### CVEC + KNN"
   ]
  },
  {
   "cell_type": "code",
   "execution_count": 208,
   "metadata": {},
   "outputs": [],
   "source": [
    "# Simple pipeline - list of tuples\n",
    "pipe_cv = Pipeline(steps=[\n",
    "    ('cv', CountVectorizer()),\n",
    "    ('knn', KNeighborsClassifier())\n",
    "])\n",
    "\n",
    "#Params-dictionary\n",
    "pipe_params = { 'cv__max_features': [1000, 1500],\n",
    "                 'cv__stop_words': ['english'],\n",
    "                 'cv__ngram_range': [(1,1), (1,2)],\n",
    "                 'knn__metric': ['minkowski','euclidean', 'manhattan'],\n",
    "                'knn__n_neighbors': [3, 5]}\n",
    "\n",
    "knn_cv = GridSearchCV(pipe_cv, \n",
    "                    pipe_params, \n",
    "                    cv = 5)\n",
    "\n",
    "knn_cv.fit(X_train, y_train);"
   ]
  },
  {
   "cell_type": "code",
   "execution_count": 209,
   "metadata": {},
   "outputs": [],
   "source": [
    "knn_cv.best_estimator_ ;"
   ]
  },
  {
   "cell_type": "code",
   "execution_count": 210,
   "metadata": {},
   "outputs": [
    {
     "data": {
      "text/plain": [
       "0.7994350107675933"
      ]
     },
     "execution_count": 210,
     "metadata": {},
     "output_type": "execute_result"
    }
   ],
   "source": [
    "knn_cv.best_score_"
   ]
  },
  {
   "cell_type": "code",
   "execution_count": 211,
   "metadata": {},
   "outputs": [
    {
     "name": "stdout",
     "output_type": "stream",
     "text": [
      "Best TRAIN set accuracy: 0.7994\n",
      "Best TEST set accuracy: 0.7831\n"
     ]
    }
   ],
   "source": [
    "train_score = knn_cv.best_score_\n",
    "print('Best TRAIN set accuracy: {:.4f}'.format(train_score))\n",
    "test_score = knn_cv.score(X_test, y_test)\n",
    "print('Best TEST set accuracy: {:.4f}'.format(test_score))"
   ]
  },
  {
   "cell_type": "code",
   "execution_count": 212,
   "metadata": {},
   "outputs": [
    {
     "name": "stdout",
     "output_type": "stream",
     "text": [
      "Classification metric:\n",
      "accuracy:               0.7831 \n",
      "missclassification:     0.2169 \n",
      "sensitivity:            0.8246\n",
      "specificity:            0.7270 \n",
      "precise:                0.8032 \n"
     ]
    }
   ],
   "source": [
    "y_preds = knn_cv.predict(X_test);\n",
    "confusion_matrix(y_test, y_preds);\n",
    "tn, fp, fn, tp = confusion_matrix(y_test, y_preds).ravel();\n",
    "\n",
    "print('Classification metric:')\n",
    "print(\"accuracy:               {:.4f} \".format(((tp + tn)/(tp + tn + fp + fn))))\n",
    "print(\"missclassification:     {:.4f} \".format(1 - ((tp + tn)/(tp + tn + fp + fn))))\n",
    "print(\"sensitivity:            {:.4f}\".format((tp /(tp+fn))))\n",
    "print(\"specificity:            {:.4f} \".format((tn/(tn+fp))))\n",
    "print(\"precise:                {:.4f} \".format((tp/(tp+fp))))"
   ]
  },
  {
   "cell_type": "markdown",
   "metadata": {},
   "source": [
    "## TF-IDF + KNN"
   ]
  },
  {
   "cell_type": "code",
   "execution_count": 214,
   "metadata": {},
   "outputs": [],
   "source": [
    "# Simple pipeline - list of tuples\n",
    "pipe_tf = Pipeline(steps=[\n",
    "    ('tfdf', TfidfVectorizer()),\n",
    "    ('knn', KNeighborsClassifier())\n",
    "])\n",
    "\n",
    "#Params-dictionary\n",
    "pipe_params = { 'tfdf__max_features': [1000, 1500],\n",
    "                 'tfdf__stop_words': [{'english'}],\n",
    "                 'tfdf__ngram_range': [(1,1), (1,2)],\n",
    "                 'knn__metric': ['minkowski','euclidean', 'manhattan'],\n",
    "                 'knn__n_neighbors': [3, 5]}\n",
    "\n",
    "knn_tf = GridSearchCV(pipe_tf, \n",
    "                    pipe_params, \n",
    "                    cv = 5) \n",
    "                               \n",
    "knn_tf.fit(X_train, y_train);"
   ]
  },
  {
   "cell_type": "code",
   "execution_count": 215,
   "metadata": {},
   "outputs": [],
   "source": [
    "knn_tf.best_estimator_ ;"
   ]
  },
  {
   "cell_type": "code",
   "execution_count": 216,
   "metadata": {},
   "outputs": [
    {
     "data": {
      "text/plain": [
       "0.7132286690264611"
      ]
     },
     "execution_count": 216,
     "metadata": {},
     "output_type": "execute_result"
    }
   ],
   "source": [
    "knn_tf.best_score_"
   ]
  },
  {
   "cell_type": "code",
   "execution_count": 217,
   "metadata": {},
   "outputs": [
    {
     "name": "stdout",
     "output_type": "stream",
     "text": [
      "Best TRAIN set accuracy: 0.7132\n",
      "Best TEST set accuracy: 0.7245\n"
     ]
    }
   ],
   "source": [
    "train_score = knn_tf.best_score_\n",
    "print('Best TRAIN set accuracy: {:.4f}'.format(train_score))\n",
    "test_score = knn_tf.score(X_test, y_test)\n",
    "print('Best TEST set accuracy: {:.4f}'.format(test_score))"
   ]
  },
  {
   "cell_type": "code",
   "execution_count": 218,
   "metadata": {},
   "outputs": [
    {
     "name": "stdout",
     "output_type": "stream",
     "text": [
      "Classification metric:\n",
      "accuracy:               0.7245 \n",
      "missclassification:     0.2755 \n",
      "sensitivity:            0.8990\n",
      "specificity:            0.4888 \n",
      "precise:                0.7038 \n"
     ]
    }
   ],
   "source": [
    "y_preds = knn_tf.predict(X_test);\n",
    "confusion_matrix(y_test, y_preds);\n",
    "tn, fp, fn, tp = confusion_matrix(y_test, y_preds).ravel();\n",
    "\n",
    "print('Classification metric:')\n",
    "print(\"accuracy:               {:.4f} \".format(((tp + tn)/(tp + tn + fp + fn))))\n",
    "print(\"missclassification:     {:.4f} \".format(1 - ((tp + tn)/(tp + tn + fp + fn))))\n",
    "print(\"sensitivity:            {:.4f}\".format((tp /(tp+fn))))\n",
    "print(\"specificity:            {:.4f} \".format((tn/(tn+fp))))\n",
    "print(\"precise:                {:.4f} \".format((tp/(tp+fp))))"
   ]
  },
  {
   "cell_type": "markdown",
   "metadata": {},
   "source": [
    "### CVEC + Naive bayes (Multinomial)"
   ]
  },
  {
   "cell_type": "code",
   "execution_count": 53,
   "metadata": {},
   "outputs": [],
   "source": [
    "# Simple pipeline - list of tuples\n",
    "pipe_cv = Pipeline(steps=[\n",
    "    ('cv', CountVectorizer()),\n",
    "    ('multNB', MultinomialNB())\n",
    "])\n",
    "\n",
    "#Params-dictionary\n",
    "pipe_params = { 'cv__max_features': [1000, 1500],\n",
    "                 'cv__stop_words': [{'english'}],\n",
    "                 'cv__ngram_range': [(1,1), (1,2)]}\n",
    "\n",
    "gs_multNB = GridSearchCV(pipe_cv, \n",
    "                    pipe_params, \n",
    "                    cv = 5) \n",
    "                               \n",
    "gs_multNB.fit(X_train, y_train);"
   ]
  },
  {
   "cell_type": "code",
   "execution_count": 54,
   "metadata": {},
   "outputs": [],
   "source": [
    "gs_multNB.best_estimator_ ;"
   ]
  },
  {
   "cell_type": "code",
   "execution_count": 55,
   "metadata": {},
   "outputs": [
    {
     "data": {
      "text/plain": [
       "0.8764975618208372"
      ]
     },
     "execution_count": 55,
     "metadata": {},
     "output_type": "execute_result"
    }
   ],
   "source": [
    "gs_multNB.best_score_"
   ]
  },
  {
   "cell_type": "code",
   "execution_count": 187,
   "metadata": {},
   "outputs": [
    {
     "name": "stdout",
     "output_type": "stream",
     "text": [
      "Best TRAIN set accuracy: 0.8765\n",
      "Best TEST set accuracy: 0.8792\n"
     ]
    }
   ],
   "source": [
    "train_score = gs_multNB.best_score_\n",
    "print('Best TRAIN set accuracy: {:.4f}'.format(train_score))\n",
    "test_score = gs_multNB.score(X_test, y_test)\n",
    "print('Best TEST set accuracy: {:.4f}'.format(test_score))"
   ]
  },
  {
   "cell_type": "code",
   "execution_count": 57,
   "metadata": {},
   "outputs": [
    {
     "name": "stdout",
     "output_type": "stream",
     "text": [
      "Classification metric:\n",
      "accuracy:               0.8792 \n",
      "missclassification:     0.1208 \n",
      "sensitivity:            0.9513\n",
      "specificity:            0.7816 \n",
      "precise:                0.8548 \n"
     ]
    }
   ],
   "source": [
    "y_preds = gs_multNB.predict(X_test);\n",
    "confusion_matrix(y_test, y_preds);\n",
    "tn, fp, fn, tp = confusion_matrix(y_test, y_preds).ravel();\n",
    "\n",
    "print('Classification metric:')\n",
    "print(\"accuracy:               {:.4f} \".format(((tp + tn)/(tp + tn + fp + fn))))\n",
    "print(\"missclassification:     {:.4f} \".format(1 - ((tp + tn)/(tp + tn + fp + fn))))\n",
    "print(\"sensitivity:            {:.4f}\".format((tp /(tp+fn))))\n",
    "print(\"specificity:            {:.4f} \".format((tn/(tn+fp))))\n",
    "print(\"precise:                {:.4f} \".format((tp/(tp+fp))))"
   ]
  },
  {
   "cell_type": "markdown",
   "metadata": {},
   "source": [
    "### TD-IDF + Naive bayes (Gaussian )"
   ]
  },
  {
   "cell_type": "code",
   "execution_count": 58,
   "metadata": {},
   "outputs": [],
   "source": [
    "# adapted from https://stackoverflow.com/questions/28384680/scikit-learns-pipeline-a-sparse-matrix-was-passed-but-dense-data-is-required\n",
    "class DenseTransformer(TransformerMixin):\n",
    "    def fit(self, X, y=None, **fit_params):\n",
    "        return self\n",
    "\n",
    "    def transform(self, X, y=None, **fit_params):\n",
    "        return X.toarray()"
   ]
  },
  {
   "cell_type": "code",
   "execution_count": 59,
   "metadata": {},
   "outputs": [],
   "source": [
    "\n",
    "pipe_tf = Pipeline(steps=[\n",
    "    ('tfdf', TfidfVectorizer()),\n",
    "    (\"_\",DenseTransformer()),\n",
    "    ('gasNB', GaussianNB())\n",
    "])\n",
    "\n",
    "pipe_params = { 'tfdf__max_features': [1000, 1500],\n",
    "                 'tfdf__stop_words': [{'english'}],\n",
    "                 'tfdf__ngram_range': [(1,1), (1,2)]}\n",
    "\n",
    "gs_gasNB = GridSearchCV(pipe_tf, \n",
    "                    pipe_params, \n",
    "                    cv = 5) \n",
    "\n",
    "\n",
    "\n",
    "gs_gasNB.fit(X_train, y_train);"
   ]
  },
  {
   "cell_type": "code",
   "execution_count": 60,
   "metadata": {},
   "outputs": [],
   "source": [
    "gs_gasNB.best_estimator_ ;"
   ]
  },
  {
   "cell_type": "code",
   "execution_count": 61,
   "metadata": {},
   "outputs": [
    {
     "data": {
      "text/plain": [
       "0.7645975147899701"
      ]
     },
     "execution_count": 61,
     "metadata": {},
     "output_type": "execute_result"
    }
   ],
   "source": [
    "gs_gasNB.best_score_"
   ]
  },
  {
   "cell_type": "code",
   "execution_count": 188,
   "metadata": {},
   "outputs": [
    {
     "name": "stdout",
     "output_type": "stream",
     "text": [
      "Best TRAIN set accuracy: 0.7646\n",
      "Best TEST set accuracy: 0.7646\n"
     ]
    }
   ],
   "source": [
    "train_score = gs_gasNB.best_score_\n",
    "print('Best TRAIN set accuracy: {:.4f}'.format(train_score))\n",
    "test_score = gs_gasNB.score(X_test, y_test)\n",
    "print('Best TEST set accuracy: {:.4f}'.format(test_score))"
   ]
  },
  {
   "cell_type": "code",
   "execution_count": 63,
   "metadata": {},
   "outputs": [
    {
     "name": "stdout",
     "output_type": "stream",
     "text": [
      "Classification metric:\n",
      "accuracy:               0.7646 \n",
      "missclassification:     0.2354 \n",
      "sensitivity:            0.6749\n",
      "specificity:            0.8859 \n",
      "precise:                0.8888 \n"
     ]
    }
   ],
   "source": [
    "y_preds = gs_gasNB.predict(X_test);\n",
    "confusion_matrix(y_test, y_preds);\n",
    "tn, fp, fn, tp = confusion_matrix(y_test, y_preds).ravel();\n",
    "\n",
    "print('Classification metric:')\n",
    "print(\"accuracy:               {:.4f} \".format(((tp + tn)/(tp + tn + fp + fn))))\n",
    "print(\"missclassification:     {:.4f} \".format(1 - ((tp + tn)/(tp + tn + fp + fn))))\n",
    "print(\"sensitivity:            {:.4f}\".format((tp /(tp+fn))))\n",
    "print(\"specificity:            {:.4f} \".format((tn/(tn+fp))))\n",
    "print(\"precise:                {:.4f} \".format((tp/(tp+fp))))"
   ]
  },
  {
   "cell_type": "code",
   "execution_count": null,
   "metadata": {},
   "outputs": [],
   "source": [
    "def cm(model):\n",
    "    "
   ]
  },
  {
   "cell_type": "markdown",
   "metadata": {},
   "source": [
    "### CVEC + Decision Tree"
   ]
  },
  {
   "cell_type": "code",
   "execution_count": 64,
   "metadata": {},
   "outputs": [],
   "source": [
    "# Simple pipeline - list of tuples\n",
    "cvec_tree_pipe = Pipeline(steps=[\n",
    "    ('cv', CountVectorizer()),\n",
    "    ('tree', DecisionTreeClassifier())\n",
    "])\n",
    "\n",
    "#Params-dictionary\n",
    "cvec_tree_params = {'cv__max_features': [1000, 1500],\n",
    "                 'cv__stop_words': [{'english'}],\n",
    "                 'cv__ngram_range': [(1,1), (1,2)],\n",
    "                    'cv__min_df': [5],\n",
    "                    'cv__max_df': [.5,.1,.2],\n",
    "                 'tree__max_depth': [10,15,20],\n",
    "                 'tree__min_samples_leaf': [2],\n",
    "                  'tree__min_samples_split': [3]}\n",
    "\n",
    "gs_tree = GridSearchCV(cvec_tree_pipe, \n",
    "                    cvec_tree_params, \n",
    "                    cv = 5) \n",
    "                               \n",
    "gs_tree.fit(X_train, y_train);"
   ]
  },
  {
   "cell_type": "code",
   "execution_count": 65,
   "metadata": {},
   "outputs": [],
   "source": [
    "gs_tree.best_estimator_ ;"
   ]
  },
  {
   "cell_type": "code",
   "execution_count": 66,
   "metadata": {},
   "outputs": [
    {
     "data": {
      "text/plain": [
       "0.7853628802693136"
      ]
     },
     "execution_count": 66,
     "metadata": {},
     "output_type": "execute_result"
    }
   ],
   "source": [
    "gs_tree.best_score_"
   ]
  },
  {
   "cell_type": "code",
   "execution_count": 189,
   "metadata": {},
   "outputs": [
    {
     "name": "stdout",
     "output_type": "stream",
     "text": [
      "Best TRAIN set accuracy: 0.7854\n",
      "Best TEST set accuracy: 0.7741\n"
     ]
    }
   ],
   "source": [
    "train_score = gs_tree.best_score_\n",
    "print('Best TRAIN set accuracy: {:.4f}'.format(train_score))\n",
    "test_score = gs_tree.score(X_test, y_test)\n",
    "print('Best TEST set accuracy: {:.4f}'.format(test_score))"
   ]
  },
  {
   "cell_type": "code",
   "execution_count": 68,
   "metadata": {},
   "outputs": [
    {
     "name": "stdout",
     "output_type": "stream",
     "text": [
      "Classification metric:\n",
      "accuracy:               0.7741 \n",
      "missclassification:     0.2259 \n",
      "sensitivity:            0.9642\n",
      "specificity:            0.5174 \n",
      "precise:                0.7297 \n"
     ]
    }
   ],
   "source": [
    "y_preds = gs_tree.predict(X_test);\n",
    "confusion_matrix(y_test, y_preds);\n",
    "tn, fp, fn, tp = confusion_matrix(y_test, y_preds).ravel();\n",
    "\n",
    "print('Classification metric:')\n",
    "print(\"accuracy:               {:.4f} \".format(((tp + tn)/(tp + tn + fp + fn))))\n",
    "print(\"missclassification:     {:.4f} \".format(1 - ((tp + tn)/(tp + tn + fp + fn))))\n",
    "print(\"sensitivity:            {:.4f}\".format((tp /(tp+fn))))\n",
    "print(\"specificity:            {:.4f} \".format((tn/(tn+fp))))\n",
    "print(\"precise:                {:.4f} \".format((tp/(tp+fp))))"
   ]
  },
  {
   "cell_type": "markdown",
   "metadata": {},
   "source": [
    "The scores suggest that above CART model is an overfit model (accuracy on train set is higher than the accuracy on test set). Therefore, we should try bagging classification model."
   ]
  },
  {
   "cell_type": "markdown",
   "metadata": {},
   "source": [
    "### CVCE + BaggingClassifier"
   ]
  },
  {
   "cell_type": "code",
   "execution_count": 69,
   "metadata": {},
   "outputs": [],
   "source": [
    "# Simple pipeline - list of tuples\n",
    "cvec_bagg_pipe = Pipeline(steps=[\n",
    "    ('cvec', CountVectorizer()),\n",
    "    ('bagg', BaggingClassifier(base_estimator=DecisionTreeClassifier()))\n",
    "])\n",
    "\n",
    "#Params-dictionary\n",
    "cvec_bagg_params = { 'cvec__max_features': [1000, 1500],\n",
    "                 'cvec__stop_words': [{'english'}],\n",
    "                    'cvec__min_df': [5],\n",
    "                    'cvec__max_df': [.5],\n",
    "                 'cvec__ngram_range': [(1,1), (1,2)],\n",
    "                 'bagg__n_estimators': [10], \n",
    "                  'bagg__max_samples': [.5]\n",
    "                    }             \n",
    "\n",
    "gs_bagg = GridSearchCV(cvec_bagg_pipe, \n",
    "                    cvec_bagg_params,\n",
    "                      cv= 5) \n",
    "                               \n",
    "gs_bagg.fit(X_train, y_train);"
   ]
  },
  {
   "cell_type": "code",
   "execution_count": 70,
   "metadata": {},
   "outputs": [],
   "source": [
    " gs_bagg.best_estimator_ ;"
   ]
  },
  {
   "cell_type": "code",
   "execution_count": 71,
   "metadata": {},
   "outputs": [
    {
     "data": {
      "text/plain": [
       "0.835682813931038"
      ]
     },
     "execution_count": 71,
     "metadata": {},
     "output_type": "execute_result"
    }
   ],
   "source": [
    "gs_bagg.best_score_"
   ]
  },
  {
   "cell_type": "code",
   "execution_count": 190,
   "metadata": {},
   "outputs": [
    {
     "name": "stdout",
     "output_type": "stream",
     "text": [
      "Best TRAIN set accuracy: 0.8357\n",
      "Best TEST set accuracy: 0.8385\n"
     ]
    }
   ],
   "source": [
    "train_score = gs_bagg.best_score_\n",
    "print('Best TRAIN set accuracy: {:.4f}'.format(train_score))\n",
    "test_score = gs_bagg.score(X_test, y_test)\n",
    "print('Best TEST set accuracy: {:.4f}'.format(test_score))"
   ]
  },
  {
   "cell_type": "code",
   "execution_count": 73,
   "metadata": {},
   "outputs": [
    {
     "name": "stdout",
     "output_type": "stream",
     "text": [
      "Classification metric:\n",
      "accuracy:               0.8385 \n",
      "missclassification:     0.1615 \n",
      "sensitivity:            0.8485\n",
      "specificity:            0.8251 \n",
      "precise:                0.8676 \n"
     ]
    }
   ],
   "source": [
    "y_preds = gs_bagg.predict(X_test);\n",
    "confusion_matrix(y_test, y_preds);\n",
    "tn, fp, fn, tp = confusion_matrix(y_test, y_preds).ravel();\n",
    "\n",
    "print('Classification metric:')\n",
    "print(\"accuracy:               {:.4f} \".format(((tp + tn)/(tp + tn + fp + fn))))\n",
    "print(\"missclassification:     {:.4f} \".format(1 - ((tp + tn)/(tp + tn + fp + fn))))\n",
    "print(\"sensitivity:            {:.4f}\".format((tp /(tp+fn))))\n",
    "print(\"specificity:            {:.4f} \".format((tn/(tn+fp))))\n",
    "print(\"precise:                {:.4f} \".format((tp/(tp+fp))))"
   ]
  },
  {
   "cell_type": "markdown",
   "metadata": {},
   "source": [
    "Bagging classification model is an underfit model as accuracy score on train set is lower than the accuracy score on test set. So, actually we don't need to try other classification models."
   ]
  },
  {
   "cell_type": "markdown",
   "metadata": {},
   "source": [
    "## Evaluation"
   ]
  },
  {
   "cell_type": "code",
   "execution_count": 222,
   "metadata": {},
   "outputs": [
    {
     "name": "stdout",
     "output_type": "stream",
     "text": [
      "Accuracy score for Baleline model: 0.5747\n",
      "Accuracy score for CVCE + Logistic Reg.: 0.8744\n",
      "Accuracy score for TD-IDF + Logistic Reg.: 0.8728\n",
      "Accuracy score for CVEC + KNN.: 0.7831\n",
      "Accuracy score for TD-IDF + KNN.: 0.7245\n",
      "Accuracy score for CVEC + Multinomial.: 0.8792\n",
      "Accuracy score for CVEC + Gaussaian.: 0.7646\n",
      "Accuracy score for CVEC + Decision Tree: 0.7741\n",
      "Accuracy score for CVEC + Bagging Classification: 0.8385\n"
     ]
    }
   ],
   "source": [
    "print('Accuracy score for Baleline model: {:.4f}'.format(y_test.value_counts(normalize=True).max()))\n",
    "print('Accuracy score for CVCE + Logistic Reg.: {:.4f}'.format(logit_cv.score(X_test, y_test)))\n",
    "print('Accuracy score for TD-IDF + Logistic Reg.: {:.4f}'.format(logit_tf.score(X_test, y_test)))\n",
    "print('Accuracy score for CVEC + KNN.: {:.4f}'.format(knn_cv.score(X_test, y_test)))\n",
    "print('Accuracy score for TD-IDF + KNN.: {:.4f}'.format(knn_tf.score(X_test, y_test)))\n",
    "print('Accuracy score for CVEC + Multinomial.: {:.4f}'.format(gs_multNB.score(X_test, y_test)))\n",
    "print('Accuracy score for CVEC + Gaussaian.: {:.4f}'.format(gs_gasNB.score(X_test, y_test)))\n",
    "print('Accuracy score for CVEC + Decision Tree: {:.4f}'.format(gs_tree.score(X_test, y_test)))\n",
    "print('Accuracy score for CVEC + Bagging Classification: {:.4f}'.format(gs_bagg.score(X_test, y_test)))"
   ]
  },
  {
   "cell_type": "markdown",
   "metadata": {},
   "source": [
    "We can see that CVEC + Multinomial model has the higest accuracy score. So it suggests that we should select Mulltinomial model. "
   ]
  },
  {
   "cell_type": "markdown",
   "metadata": {},
   "source": [
    "more discussion on bias, variance, and tp, tn, fp, fn (to be continued)"
   ]
  },
  {
   "cell_type": "markdown",
   "metadata": {},
   "source": [
    "### Coefficient interpreting"
   ]
  },
  {
   "cell_type": "markdown",
   "metadata": {},
   "source": [
    "As Multinmial model doesn't have any coefficnet, we have chosen logistic model to interpret the coefficents"
   ]
  },
  {
   "cell_type": "code",
   "execution_count": 308,
   "metadata": {},
   "outputs": [
    {
     "data": {
      "text/plain": [
       "movie       4.064615\n",
       "film        2.955006\n",
       "actor       2.027635\n",
       "watched     1.934937\n",
       "spoiler     1.754083\n",
       "endgame     1.511819\n",
       "cinema      1.496773\n",
       "director    1.479714\n",
       "aladdin     1.473607\n",
       "sequel      1.410076\n",
       "Name: coefficient, dtype: float64"
      ]
     },
     "execution_count": 308,
     "metadata": {},
     "output_type": "execute_result"
    }
   ],
   "source": [
    "logit = LogisticRegression()\n",
    "cvec = CountVectorizer(analyzer = \"word\",                        \n",
    "                         tokenizer = None,\n",
    "                         stop_words = \"english\",\n",
    "                         max_features = 1000)\n",
    "\n",
    "pipe = Pipeline([\n",
    "    ('cvec', cvec),\n",
    "    ('model', logit)\n",
    "])\n",
    "pipe.fit(X_train, y_train)\n",
    "logit.coef_;\n",
    "Coefficient_list = pd.DataFrame(data=logit.coef_.T, index=cvec.get_feature_names());\n",
    "Coefficient_list.columns = ['coefficient']\n",
    "Coefficient_list['coefficient'].sort_values(ascending = False)[:10]"
   ]
  },
  {
   "cell_type": "markdown",
   "metadata": {},
   "source": [
    "e.g. For a unit increase of presence of word 'movie' in a subreddit title, the log-odds of being a movie subreddit increases by  𝛽1=4.06 units"
   ]
  },
  {
   "cell_type": "markdown",
   "metadata": {},
   "source": [
    "## Conclusion"
   ]
  },
  {
   "cell_type": "markdown",
   "metadata": {},
   "source": [
    "## Recommendation"
   ]
  },
  {
   "cell_type": "code",
   "execution_count": null,
   "metadata": {},
   "outputs": [],
   "source": []
  }
 ],
 "metadata": {
  "kernelspec": {
   "display_name": "Python 3",
   "language": "python",
   "name": "python3"
  },
  "language_info": {
   "codemirror_mode": {
    "name": "ipython",
    "version": 3
   },
   "file_extension": ".py",
   "mimetype": "text/x-python",
   "name": "python",
   "nbconvert_exporter": "python",
   "pygments_lexer": "ipython3",
   "version": "3.7.6"
  }
 },
 "nbformat": 4,
 "nbformat_minor": 4
}
